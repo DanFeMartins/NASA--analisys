{
 "cells": [
  {
   "cell_type": "code",
   "execution_count": 199,
   "metadata": {},
   "outputs": [],
   "source": [
    "import requests\n",
    "import pandas as pd\n",
    "import numpy as np\n",
    "import seaborn as sns\n",
    "import matplotlib.pyplot as plt\n",
    "import warnings\n",
    "\n",
    "# Suprimir todos os warnings\n",
    "warnings.filterwarnings(\"ignore\")"
   ]
  },
  {
   "cell_type": "code",
   "execution_count": 200,
   "metadata": {},
   "outputs": [],
   "source": [
    "pd.set_option('display.max_colwidth', None) #para ver as descrições dos eventos\n"
   ]
  },
  {
   "cell_type": "code",
   "execution_count": 201,
   "metadata": {},
   "outputs": [],
   "source": [
    "url_events = \"https://eonet.gsfc.nasa.gov/api/v3/events\"\n",
    "url_categorias = \"https://eonet.gsfc.nasa.gov/api/v3/categories\"\n",
    "url_layers = \"https://eonet.gsfc.nasa.gov/api/v3/layers\"\n",
    "url_source = \"https://eonet.gsfc.nasa.gov/api/v3/sources\"\n"
   ]
  },
  {
   "cell_type": "code",
   "execution_count": 202,
   "metadata": {},
   "outputs": [],
   "source": [
    "response_events = requests.get(url_events)\n"
   ]
  },
  {
   "cell_type": "code",
   "execution_count": 203,
   "metadata": {},
   "outputs": [],
   "source": [
    "response_categorias = requests.get(url_categorias)"
   ]
  },
  {
   "cell_type": "code",
   "execution_count": 204,
   "metadata": {},
   "outputs": [],
   "source": [
    "response_layers = requests.get(url_layers)"
   ]
  },
  {
   "cell_type": "code",
   "execution_count": 205,
   "metadata": {},
   "outputs": [],
   "source": [
    "response_source = requests.get(url_source)\n"
   ]
  },
  {
   "cell_type": "code",
   "execution_count": 206,
   "metadata": {},
   "outputs": [],
   "source": [
    "#captura a informação dos json\n",
    "data_events = response_events.json()\n",
    "data_categorias = response_categorias.json()\n",
    "data_layers = response_layers.json()\n",
    "data_source = response_source.json()\n",
    "\n",
    "\n",
    "events = data_events['events']\n",
    "categorias = data_categorias['categories']\n",
    "layers = data_layers['categories']\n",
    "source = data_source['sources']\n",
    "\n",
    "\n",
    "\n",
    "df_events = pd.json_normalize(events)\n",
    "df_categorias = pd.json_normalize(categorias)\n",
    "df_layers = pd.json_normalize(data_layers['categories'], 'layers')\n",
    "df_source = pd.json_normalize(source)\n",
    "    \n",
    "    "
   ]
  },
  {
   "cell_type": "code",
   "execution_count": 207,
   "metadata": {},
   "outputs": [
    {
     "data": {
      "text/html": [
       "<style type=\"text/css\">\n",
       "#T_fca72 th {\n",
       "  text-align: left;\n",
       "}\n",
       "#T_fca72 td {\n",
       "  text-align: left;\n",
       "}\n",
       "</style>\n",
       "<table id=\"T_fca72\">\n",
       "  <thead>\n",
       "    <tr>\n",
       "      <th class=\"blank level0\" >&nbsp;</th>\n",
       "      <th id=\"T_fca72_level0_col0\" class=\"col_heading level0 col0\" >title</th>\n",
       "      <th id=\"T_fca72_level0_col1\" class=\"col_heading level0 col1\" >description</th>\n",
       "    </tr>\n",
       "  </thead>\n",
       "  <tbody>\n",
       "    <tr>\n",
       "      <th id=\"T_fca72_level0_row0\" class=\"row_heading level0 row0\" >0</th>\n",
       "      <td id=\"T_fca72_row0_col0\" class=\"data row0 col0\" >Drought</td>\n",
       "      <td id=\"T_fca72_row0_col1\" class=\"data row0 col1\" >Long lasting absence of precipitation affecting agriculture and livestock, and the overall availability of food and water.</td>\n",
       "    </tr>\n",
       "    <tr>\n",
       "      <th id=\"T_fca72_level0_row1\" class=\"row_heading level0 row1\" >1</th>\n",
       "      <td id=\"T_fca72_row1_col0\" class=\"data row1 col0\" >Dust and Haze</td>\n",
       "      <td id=\"T_fca72_row1_col1\" class=\"data row1 col1\" >Related to dust storms, air pollution and other non-volcanic aerosols. Volcano-related plumes shall be included with the originating eruption event.</td>\n",
       "    </tr>\n",
       "    <tr>\n",
       "      <th id=\"T_fca72_level0_row2\" class=\"row_heading level0 row2\" >2</th>\n",
       "      <td id=\"T_fca72_row2_col0\" class=\"data row2 col0\" >Earthquakes</td>\n",
       "      <td id=\"T_fca72_row2_col1\" class=\"data row2 col1\" >Related to all manner of shaking and displacement. Certain aftermath of earthquakes may also be found under landslides and floods.</td>\n",
       "    </tr>\n",
       "    <tr>\n",
       "      <th id=\"T_fca72_level0_row3\" class=\"row_heading level0 row3\" >3</th>\n",
       "      <td id=\"T_fca72_row3_col0\" class=\"data row3 col0\" >Floods</td>\n",
       "      <td id=\"T_fca72_row3_col1\" class=\"data row3 col1\" >Related to aspects of actual flooding--e.g., inundation, water extending beyond river and lake extents.</td>\n",
       "    </tr>\n",
       "    <tr>\n",
       "      <th id=\"T_fca72_level0_row4\" class=\"row_heading level0 row4\" >4</th>\n",
       "      <td id=\"T_fca72_row4_col0\" class=\"data row4 col0\" >Landslides</td>\n",
       "      <td id=\"T_fca72_row4_col1\" class=\"data row4 col1\" >Related to landslides and variations thereof: mudslides, avalanche.</td>\n",
       "    </tr>\n",
       "    <tr>\n",
       "      <th id=\"T_fca72_level0_row5\" class=\"row_heading level0 row5\" >5</th>\n",
       "      <td id=\"T_fca72_row5_col0\" class=\"data row5 col0\" >Manmade</td>\n",
       "      <td id=\"T_fca72_row5_col1\" class=\"data row5 col1\" >Events that have been human-induced and are extreme in their extent.</td>\n",
       "    </tr>\n",
       "    <tr>\n",
       "      <th id=\"T_fca72_level0_row6\" class=\"row_heading level0 row6\" >6</th>\n",
       "      <td id=\"T_fca72_row6_col0\" class=\"data row6 col0\" >Sea and Lake Ice</td>\n",
       "      <td id=\"T_fca72_row6_col1\" class=\"data row6 col1\" >Related to all ice that resides on oceans and lakes, including sea and lake ice (permanent and seasonal) and icebergs.</td>\n",
       "    </tr>\n",
       "    <tr>\n",
       "      <th id=\"T_fca72_level0_row7\" class=\"row_heading level0 row7\" >7</th>\n",
       "      <td id=\"T_fca72_row7_col0\" class=\"data row7 col0\" >Severe Storms</td>\n",
       "      <td id=\"T_fca72_row7_col1\" class=\"data row7 col1\" >Related to the atmospheric aspect of storms (hurricanes, cyclones, tornadoes, etc.). Results of storms may be included under floods, landslides, etc.</td>\n",
       "    </tr>\n",
       "    <tr>\n",
       "      <th id=\"T_fca72_level0_row8\" class=\"row_heading level0 row8\" >8</th>\n",
       "      <td id=\"T_fca72_row8_col0\" class=\"data row8 col0\" >Snow</td>\n",
       "      <td id=\"T_fca72_row8_col1\" class=\"data row8 col1\" >Related to snow events, particularly extreme/anomalous snowfall in either timing or extent/depth.</td>\n",
       "    </tr>\n",
       "    <tr>\n",
       "      <th id=\"T_fca72_level0_row9\" class=\"row_heading level0 row9\" >9</th>\n",
       "      <td id=\"T_fca72_row9_col0\" class=\"data row9 col0\" >Temperature Extremes</td>\n",
       "      <td id=\"T_fca72_row9_col1\" class=\"data row9 col1\" >Related to anomalous land temperatures, either heat or cold.</td>\n",
       "    </tr>\n",
       "    <tr>\n",
       "      <th id=\"T_fca72_level0_row10\" class=\"row_heading level0 row10\" >10</th>\n",
       "      <td id=\"T_fca72_row10_col0\" class=\"data row10 col0\" >Volcanoes</td>\n",
       "      <td id=\"T_fca72_row10_col1\" class=\"data row10 col1\" >Related to both the physical effects of an eruption (rock, ash, lava) and the atmospheric (ash and gas plumes).</td>\n",
       "    </tr>\n",
       "    <tr>\n",
       "      <th id=\"T_fca72_level0_row11\" class=\"row_heading level0 row11\" >11</th>\n",
       "      <td id=\"T_fca72_row11_col0\" class=\"data row11 col0\" >Water Color</td>\n",
       "      <td id=\"T_fca72_row11_col1\" class=\"data row11 col1\" >Related to events that alter the appearance of water: phytoplankton, red tide, algae, sediment, whiting, etc.</td>\n",
       "    </tr>\n",
       "    <tr>\n",
       "      <th id=\"T_fca72_level0_row12\" class=\"row_heading level0 row12\" >12</th>\n",
       "      <td id=\"T_fca72_row12_col0\" class=\"data row12 col0\" >Wildfires</td>\n",
       "      <td id=\"T_fca72_row12_col1\" class=\"data row12 col1\" >Wildfires includes all nature of fire, including forest and plains fires, as well as urban and industrial fire events. Fires may be naturally caused or manmade.</td>\n",
       "    </tr>\n",
       "  </tbody>\n",
       "</table>\n"
      ],
      "text/plain": [
       "<pandas.io.formats.style.Styler at 0x24e7db9d160>"
      ]
     },
     "execution_count": 207,
     "metadata": {},
     "output_type": "execute_result"
    }
   ],
   "source": [
    "#título das categorias dos eventos\n",
    "categorias = df_categorias[['title','description']]\n",
    "\n",
    "#alinha titulo e conteudo do df para a esquerda\n",
    "categorias= categorias.style.set_table_styles(\n",
    "    [{'selector': 'th', 'props': [('text-align', 'left')]},    \n",
    "     {'selector': 'td', 'props': [('text-align', 'left')]}]    \n",
    ")\n",
    "\n",
    "categorias\n"
   ]
  },
  {
   "cell_type": "code",
   "execution_count": 208,
   "metadata": {},
   "outputs": [
    {
     "data": {
      "text/plain": [
       "0    [severeStorms]\n",
       "1    [severeStorms]\n",
       "2    [severeStorms]\n",
       "3       [wildfires]\n",
       "4       [wildfires]\n",
       "Name: categories, dtype: object"
      ]
     },
     "execution_count": 208,
     "metadata": {},
     "output_type": "execute_result"
    }
   ],
   "source": [
    "#titulos de todos os eventos existentes no dataframe\n",
    "titulos = df_events['categories'].apply(lambda x: [d['id'] for d in x])\n",
    "titulos.head()\n",
    "# titulos.explode('titulos')\n"
   ]
  },
  {
   "cell_type": "code",
   "execution_count": 209,
   "metadata": {},
   "outputs": [
    {
     "name": "stdout",
     "output_type": "stream",
     "text": [
      "['severeStorms' 'wildfires' 'volcanoes' 'seaLakeIce']\n"
     ]
    }
   ],
   "source": [
    "#todos os tipos de eventos armazenados \n",
    "titulos_exploded = titulos.explode('titulos')\n",
    "\n",
    "\n",
    "titulos_unicos = titulos_exploded.unique()\n",
    "print(titulos_unicos)"
   ]
  },
  {
   "cell_type": "code",
   "execution_count": 210,
   "metadata": {},
   "outputs": [
    {
     "name": "stdout",
     "output_type": "stream",
     "text": [
      "Sea and Lake Ice: Related to all ice that resides on oceans and lakes, including sea and lake ice (permanent and seasonal) and icebergs.\n",
      "Severe Storms: Related to the atmospheric aspect of storms (hurricanes, cyclones, tornadoes, etc.). Results of storms may be included under floods, landslides, etc.\n",
      "Volcanoes: Related to both the physical effects of an eruption (rock, ash, lava) and the atmospheric (ash and gas plumes).\n",
      "Wildfires: Wildfires includes all nature of fire, including forest and plains fires, as well as urban and industrial fire events. Fires may be naturally caused or manmade.\n"
     ]
    }
   ],
   "source": [
    "#descrição dos eventos únicos \n",
    "selecao = df_categorias.query('title == \"Wildfires\" | title ==\"Volcanoes\" | title == \"Severe Storms\" | title == \"Sea and Lake Ice\"')\n",
    "for i in range(4):\n",
    "    print(selecao['title'].iloc[i], end=\": \")\n",
    "    print(selecao['description'].iloc[i])"
   ]
  },
  {
   "cell_type": "code",
   "execution_count": 211,
   "metadata": {},
   "outputs": [
    {
     "data": {
      "text/plain": [
       "categories\n",
       "wildfires       3600\n",
       "seaLakeIce        45\n",
       "volcanoes         33\n",
       "severeStorms       5\n",
       "Name: count, dtype: int64"
      ]
     },
     "execution_count": 211,
     "metadata": {},
     "output_type": "execute_result"
    }
   ],
   "source": [
    "contagem = titulos_exploded.value_counts()\n",
    "contagem.head()"
   ]
  },
  {
   "cell_type": "code",
   "execution_count": 212,
   "metadata": {},
   "outputs": [
    {
     "data": {
      "text/plain": [
       "<Axes: xlabel='categories', ylabel='quantidade'>"
      ]
     },
     "execution_count": 212,
     "metadata": {},
     "output_type": "execute_result"
    },
    {
     "data": {
      "image/png": "[encoded data removed]",
      "text/plain": [
       "<Figure size 800x500 with 1 Axes>"
      ]
     },
     "metadata": {},
     "output_type": "display_data"
    }
   ],
   "source": [
    "\n",
    "contagem.plot(kind = 'bar', xlabel= 'categories', ylabel='quantidade',  figsize= (8,5))"
   ]
  },
  {
   "cell_type": "code",
   "execution_count": 213,
   "metadata": {},
   "outputs": [],
   "source": [
    "\n",
    "df_events['categoria_evento'] = titulos.apply(lambda x: x[0] ) \n",
    "\n",
    "# df_events.head(1)\n"
   ]
  },
  {
   "cell_type": "code",
   "execution_count": 214,
   "metadata": {},
   "outputs": [],
   "source": [
    "\n",
    "\n",
    "magnitude = df_events['geometry'].apply(lambda x: [d['magnitudeValue'] for d in x])\n",
    "\n",
    "magnitude.head()\n",
    "\n",
    "df_events['magnitude_evento'] = magnitude\n",
    "# df_events.head(1)"
   ]
  },
  {
   "cell_type": "markdown",
   "metadata": {},
   "source": [
    "Média das magnitudes dos wildfires, evento menos ocorrido: Severe Storms"
   ]
  },
  {
   "cell_type": "code",
   "execution_count": 215,
   "metadata": {},
   "outputs": [
    {
     "name": "stderr",
     "output_type": "stream",
     "text": [
      "C:\\Users\\danie\\AppData\\Local\\Temp\\ipykernel_18804\\2160549154.py:3: SettingWithCopyWarning: \n",
      "A value is trying to be set on a copy of a slice from a DataFrame.\n",
      "Try using .loc[row_indexer,col_indexer] = value instead\n",
      "\n",
      "See the caveats in the documentation: https://pandas.pydata.org/pandas-docs/stable/user_guide/indexing.html#returning-a-view-versus-a-copy\n",
      "  df_events_storms['media_magnitude'] = df_events_storms['magnitude_evento'].apply(lambda x: np.mean(x))\n"
     ]
    },
    {
     "data": {
      "text/html": [
       "<div>\n",
       "<style scoped>\n",
       "    .dataframe tbody tr th:only-of-type {\n",
       "        vertical-align: middle;\n",
       "    }\n",
       "\n",
       "    .dataframe tbody tr th {\n",
       "        vertical-align: top;\n",
       "    }\n",
       "\n",
       "    .dataframe thead th {\n",
       "        text-align: right;\n",
       "    }\n",
       "</style>\n",
       "<table border=\"1\" class=\"dataframe\">\n",
       "  <thead>\n",
       "    <tr style=\"text-align: right;\">\n",
       "      <th></th>\n",
       "      <th>title</th>\n",
       "      <th>media_magnitude</th>\n",
       "    </tr>\n",
       "  </thead>\n",
       "  <tbody>\n",
       "    <tr>\n",
       "      <th>0</th>\n",
       "      <td>Tropical Cyclone Dana</td>\n",
       "      <td>56.250000</td>\n",
       "    </tr>\n",
       "    <tr>\n",
       "      <th>1</th>\n",
       "      <td>Hurricane Kristy</td>\n",
       "      <td>85.200000</td>\n",
       "    </tr>\n",
       "    <tr>\n",
       "      <th>2</th>\n",
       "      <td>Tropical Storm Trami</td>\n",
       "      <td>45.200000</td>\n",
       "    </tr>\n",
       "    <tr>\n",
       "      <th>5</th>\n",
       "      <td>Tropical Storm Oscar</td>\n",
       "      <td>54.615385</td>\n",
       "    </tr>\n",
       "    <tr>\n",
       "      <th>6</th>\n",
       "      <td>Tropical Storm Nadine</td>\n",
       "      <td>33.333333</td>\n",
       "    </tr>\n",
       "  </tbody>\n",
       "</table>\n",
       "</div>"
      ],
      "text/plain": [
       "                   title  media_magnitude\n",
       "0  Tropical Cyclone Dana        56.250000\n",
       "1       Hurricane Kristy        85.200000\n",
       "2   Tropical Storm Trami        45.200000\n",
       "5   Tropical Storm Oscar        54.615385\n",
       "6  Tropical Storm Nadine        33.333333"
      ]
     },
     "execution_count": 215,
     "metadata": {},
     "output_type": "execute_result"
    }
   ],
   "source": [
    "df_events_storms = df_events.query('categoria_evento == \"severeStorms\"')\n",
    "df_events_storms.head(1)\n",
    "df_events_storms['media_magnitude'] = df_events_storms['magnitude_evento'].apply(lambda x: np.mean(x))\n",
    "# df_events_storms\n",
    "\n",
    "df_magnitude_grafico = df_events_storms[['title', 'media_magnitude']]\n",
    "df_magnitude_grafico.head()\n",
    "\n",
    "# df_magnitude_grafico.set_index('title', inplace=True)\n",
    "# df_magnitude_grafico.plot(kind='bar', ylabel = 'kts', xlabel = 'title')"
   ]
  },
  {
   "cell_type": "code",
   "execution_count": 216,
   "metadata": {},
   "outputs": [
    {
     "data": {
      "image/png": "[encoded data removed]",
      "text/plain": [
       "<Figure size 1000x600 with 1 Axes>"
      ]
     },
     "metadata": {},
     "output_type": "display_data"
    }
   ],
   "source": [
    "x = df_magnitude_grafico['title']\n",
    "y = df_magnitude_grafico['media_magnitude']\n",
    "\n",
    "plt.figure(figsize=(10, 6))  # Define o tamanho do gráfico\n",
    "plt.bar(x, y, width=1, edgecolor=\"white\", linewidth=0.7)\n",
    "\n",
    "plt.xticks(rotation=90)\n",
    "\n",
    "plt.xlabel('Tempestades')\n",
    "plt.ylabel('magnitude (kts)')\n",
    "plt.title('Intensidade das tempestades')\n",
    "\n",
    "plt.show()\n",
    "\n",
    "\n"
   ]
  },
  {
   "cell_type": "code",
   "execution_count": 217,
   "metadata": {},
   "outputs": [
    {
     "data": {
      "text/plain": [
       "0    2024-10-23T06:00:00Z\n",
       "1    2024-10-21T18:00:00Z\n",
       "2    2024-10-21T18:00:00Z\n",
       "5    2024-10-19T15:00:00Z\n",
       "6    2024-10-19T09:00:00Z\n",
       "Name: geometry, dtype: object"
      ]
     },
     "execution_count": 217,
     "metadata": {},
     "output_type": "execute_result"
    }
   ],
   "source": [
    "data_events = df_events_storms['geometry'].apply(lambda x: [d['date'] for d in x])\n",
    "data_events_inicio = data_events.apply(lambda x: x[0])\n",
    "data_events_inicio"
   ]
  },
  {
   "cell_type": "code",
   "execution_count": 218,
   "metadata": {},
   "outputs": [
    {
     "name": "stderr",
     "output_type": "stream",
     "text": [
      "C:\\Users\\danie\\AppData\\Local\\Temp\\ipykernel_18804\\3850866681.py:5: SettingWithCopyWarning: \n",
      "A value is trying to be set on a copy of a slice from a DataFrame.\n",
      "Try using .loc[row_indexer,col_indexer] = value instead\n",
      "\n",
      "See the caveats in the documentation: https://pandas.pydata.org/pandas-docs/stable/user_guide/indexing.html#returning-a-view-versus-a-copy\n",
      "  df_wildfire_tempo['magnitude_evento'] = df_wildfire_tempo['magnitude_evento'].apply(lambda x: x[0])\n",
      "C:\\Users\\danie\\AppData\\Local\\Temp\\ipykernel_18804\\3850866681.py:6: SettingWithCopyWarning: \n",
      "A value is trying to be set on a copy of a slice from a DataFrame.\n",
      "Try using .loc[row_indexer,col_indexer] = value instead\n",
      "\n",
      "See the caveats in the documentation: https://pandas.pydata.org/pandas-docs/stable/user_guide/indexing.html#returning-a-view-versus-a-copy\n",
      "  df_wildfire_tempo['data'] = df_events_wildfire['geometry'].apply(lambda x: [d['date'] for d in x] )\n",
      "C:\\Users\\danie\\AppData\\Local\\Temp\\ipykernel_18804\\3850866681.py:8: SettingWithCopyWarning: \n",
      "A value is trying to be set on a copy of a slice from a DataFrame.\n",
      "Try using .loc[row_indexer,col_indexer] = value instead\n",
      "\n",
      "See the caveats in the documentation: https://pandas.pydata.org/pandas-docs/stable/user_guide/indexing.html#returning-a-view-versus-a-copy\n",
      "  df_wildfire_tempo['data'] = df_wildfire_tempo['data'].apply(lambda x: x[0])\n",
      "C:\\Users\\danie\\AppData\\Local\\Temp\\ipykernel_18804\\3850866681.py:9: SettingWithCopyWarning: \n",
      "A value is trying to be set on a copy of a slice from a DataFrame.\n",
      "Try using .loc[row_indexer,col_indexer] = value instead\n",
      "\n",
      "See the caveats in the documentation: https://pandas.pydata.org/pandas-docs/stable/user_guide/indexing.html#returning-a-view-versus-a-copy\n",
      "  df_wildfire_tempo['data'] = pd.to_datetime(df_wildfire_tempo['data'], errors='coerce')\n",
      "C:\\Users\\danie\\AppData\\Local\\Temp\\ipykernel_18804\\3850866681.py:10: SettingWithCopyWarning: \n",
      "A value is trying to be set on a copy of a slice from a DataFrame.\n",
      "Try using .loc[row_indexer,col_indexer] = value instead\n",
      "\n",
      "See the caveats in the documentation: https://pandas.pydata.org/pandas-docs/stable/user_guide/indexing.html#returning-a-view-versus-a-copy\n",
      "  df_wildfire_tempo['data'] = df_wildfire_tempo['data'].dt.month\n"
     ]
    }
   ],
   "source": [
    "df_events_wildfire = df_events.query('categoria_evento == \"wildfires\"')\n",
    "# df_events_wildfire.shape\n",
    "df_wildfire_tempo = df_events_wildfire[['title','magnitude_evento']]\n",
    "\n",
    "df_wildfire_tempo['magnitude_evento'] = df_wildfire_tempo['magnitude_evento'].apply(lambda x: x[0])\n",
    "df_wildfire_tempo['data'] = df_events_wildfire['geometry'].apply(lambda x: [d['date'] for d in x] )\n",
    "\n",
    "df_wildfire_tempo['data'] = df_wildfire_tempo['data'].apply(lambda x: x[0])\n",
    "df_wildfire_tempo['data'] = pd.to_datetime(df_wildfire_tempo['data'], errors='coerce')\n",
    "df_wildfire_tempo['data'] = df_wildfire_tempo['data'].dt.month\n",
    "\n",
    "# df_wildfire_tempo.head()\n",
    "\n",
    "# df_wildfire_tempo.query(\"data !=10 \").shape\n",
    "\n"
   ]
  },
  {
   "cell_type": "code",
   "execution_count": 219,
   "metadata": {},
   "outputs": [
    {
     "data": {
      "image/png": "[encoded data removed]",
      "text/plain": [
       "<Figure size 1000x600 with 1 Axes>"
      ]
     },
     "metadata": {},
     "output_type": "display_data"
    }
   ],
   "source": [
    "x = df_wildfire_tempo['data']  # coluna de datas, representando os meses\n",
    "y = df_wildfire_tempo['magnitude_evento']  # coluna de magnitude do evento\n",
    "\n",
    "# Criar o gráfico de dispersão\n",
    "plt.figure(figsize=(10, 6))  # Define o tamanho do gráfico\n",
    "plt.scatter(x, y)\n",
    "\n",
    "# Personalizar o gráfico\n",
    "plt.xlabel(\"Mês\")\n",
    "plt.ylabel(\"Magnitude do Evento\")\n",
    "plt.title(\"Magnitude dos Wildfires ao Longo do Tempo\")\n",
    "\n",
    "plt.xticks(np.arange(0, 13, step=1))\n",
    "plt.show()\n"
   ]
  },
  {
   "cell_type": "code",
   "execution_count": 220,
   "metadata": {},
   "outputs": [
    {
     "data": {
      "text/html": [
       "<div>\n",
       "<style scoped>\n",
       "    .dataframe tbody tr th:only-of-type {\n",
       "        vertical-align: middle;\n",
       "    }\n",
       "\n",
       "    .dataframe tbody tr th {\n",
       "        vertical-align: top;\n",
       "    }\n",
       "\n",
       "    .dataframe thead th {\n",
       "        text-align: right;\n",
       "    }\n",
       "</style>\n",
       "<table border=\"1\" class=\"dataframe\">\n",
       "  <thead>\n",
       "    <tr style=\"text-align: right;\">\n",
       "      <th></th>\n",
       "      <th>count</th>\n",
       "    </tr>\n",
       "    <tr>\n",
       "      <th>data</th>\n",
       "      <th></th>\n",
       "    </tr>\n",
       "  </thead>\n",
       "  <tbody>\n",
       "    <tr>\n",
       "      <th>12</th>\n",
       "      <td>1</td>\n",
       "    </tr>\n",
       "    <tr>\n",
       "      <th>2</th>\n",
       "      <td>5</td>\n",
       "    </tr>\n",
       "    <tr>\n",
       "      <th>3</th>\n",
       "      <td>11</td>\n",
       "    </tr>\n",
       "    <tr>\n",
       "      <th>4</th>\n",
       "      <td>12</td>\n",
       "    </tr>\n",
       "    <tr>\n",
       "      <th>5</th>\n",
       "      <td>86</td>\n",
       "    </tr>\n",
       "    <tr>\n",
       "      <th>10</th>\n",
       "      <td>189</td>\n",
       "    </tr>\n",
       "    <tr>\n",
       "      <th>6</th>\n",
       "      <td>558</td>\n",
       "    </tr>\n",
       "    <tr>\n",
       "      <th>9</th>\n",
       "      <td>682</td>\n",
       "    </tr>\n",
       "    <tr>\n",
       "      <th>7</th>\n",
       "      <td>930</td>\n",
       "    </tr>\n",
       "    <tr>\n",
       "      <th>8</th>\n",
       "      <td>1126</td>\n",
       "    </tr>\n",
       "  </tbody>\n",
       "</table>\n",
       "</div>"
      ],
      "text/plain": [
       "      count\n",
       "data       \n",
       "12        1\n",
       "2         5\n",
       "3        11\n",
       "4        12\n",
       "5        86\n",
       "10      189\n",
       "6       558\n",
       "9       682\n",
       "7       930\n",
       "8      1126"
      ]
     },
     "execution_count": 220,
     "metadata": {},
     "output_type": "execute_result"
    }
   ],
   "source": [
    "quantidade_wildfires_mes = df_wildfire_tempo[\"data\"].value_counts().sort_values()\n",
    "quantidade_wildfires_mes = pd.DataFrame(quantidade_wildfires_mes)\n",
    "\n",
    "grafico_quantidae_wildfires = pd.DataFrame()\n",
    "grafico_quantidae_wildfires['quantidade'] = quantidade_wildfires_mes\n",
    "grafico_quantidae_wildfires.sort_values(by=\"data\", inplace= True)\n",
    "\n",
    "# quantidade_wildfires_mes.columns\n",
    "# df_wildfire_tempo\n",
    "quantidade_wildfires_mes\n"
   ]
  },
  {
   "cell_type": "code",
   "execution_count": 221,
   "metadata": {},
   "outputs": [],
   "source": [
    "# grafico_quantidae_wildfires.plot(kind=\"bar\",xlabel=\"mês\", ylabel='quantidade de incêncios')\n",
    "df_grafico_wildfires_1 = df_wildfire_tempo[\"data\"].value_counts().sort_values()\n",
    "\n",
    "\n",
    "\n"
   ]
  },
  {
   "cell_type": "code",
   "execution_count": 222,
   "metadata": {},
   "outputs": [
    {
     "data": {
      "text/plain": [
       "<BarContainer object of 10 artists>"
      ]
     },
     "execution_count": 222,
     "metadata": {},
     "output_type": "execute_result"
    },
    {
     "data": {
      "image/png": "[encoded data removed]",
      "text/plain": [
       "<Figure size 640x480 with 1 Axes>"
      ]
     },
     "metadata": {},
     "output_type": "display_data"
    }
   ],
   "source": [
    "x = df_grafico_wildfires_1.index\n",
    "y = quantidade_wildfires_mes['count']\n",
    "\n",
    "plt.xlabel(\"mês\")\n",
    "plt.ylabel(\"quantidade de incêndios\")\n",
    "plt.title(\"Quantidade de incêncios por mês\")\n",
    "\n",
    "plt.xticks(np.arange(0, 13, step=1))\n",
    "plt.bar(x,y)\n",
    "\n",
    "\n"
   ]
  },
  {
   "cell_type": "code",
   "execution_count": 223,
   "metadata": {},
   "outputs": [
    {
     "ename": "NameError",
     "evalue": "name 'df_wildfires' is not defined",
     "output_type": "error",
     "traceback": [
      "\u001b[1;31m---------------------------------------------------------------------------\u001b[0m",
      "\u001b[1;31mNameError\u001b[0m                                 Traceback (most recent call last)",
      "Cell \u001b[1;32mIn[223], line 3\u001b[0m\n\u001b[0;32m      1\u001b[0m \u001b[38;5;66;03m# max = df_events_wildfire.nlargest(10, 'magnitude_evento')\u001b[39;00m\n\u001b[0;32m      2\u001b[0m \u001b[38;5;66;03m# max\u001b[39;00m\n\u001b[1;32m----> 3\u001b[0m \u001b[43mdf_wildfires\u001b[49m\n",
      "\u001b[1;31mNameError\u001b[0m: name 'df_wildfires' is not defined"
     ]
    }
   ],
   "source": [
    "# max = df_events_wildfire.nlargest(10, 'magnitude_evento')\n",
    "# max\n",
    "df_wildfires"
   ]
  },
  {
   "cell_type": "code",
   "execution_count": null,
   "metadata": {},
   "outputs": [],
   "source": []
  }
 ],
 "metadata": {
  "kernelspec": {
   "display_name": "Python 3",
   "language": "python",
   "name": "python3"
  },
  "language_info": {
   "codemirror_mode": {
    "name": "ipython",
    "version": 3
   },
   "file_extension": ".py",
   "mimetype": "text/x-python",
   "name": "python",
   "nbconvert_exporter": "python",
   "pygments_lexer": "ipython3",
   "version": "3.12.1"
  }
 },
 "nbformat": 4,
 "nbformat_minor": 2
}
