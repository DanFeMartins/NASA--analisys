{
 "cells": [
  {
   "cell_type": "markdown",
   "metadata": {},
   "source": [
    "# Importação das bibliotecas"
   ]
  },
  {
   "cell_type": "code",
   "execution_count": 530,
   "metadata": {},
   "outputs": [],
   "source": [
    "import requests #para fazer os web requests para a API\n",
    "import pandas as pd\n",
    "import numpy as np\n",
    "import seaborn as sns\n",
    "import matplotlib.pyplot as plt\n",
    "from sklearn.preprocessing import LabelEncoder\n",
    "import warnings\n",
    "\n",
    "warnings.filterwarnings(\"ignore\")"
   ]
  },
  {
   "cell_type": "markdown",
   "metadata": {},
   "source": [
    "### URLs da API Earth Observatory Natural Event Tracker (EONET)\n",
    "\n",
    "Eventos:\n",
    "sobre eventos naturais, como vulcões, incêndios florestais, tempestades, entre outros, em tempo real. Ele permite filtrar e consultar detalhes sobre cada evento registrado.\n",
    "\n",
    "Categorias:\n",
    "Aqui, você pode obter informações sobre as categorias de eventos, como incêndios, vulcões e tempestades. Cada categoria ajuda a organizar os eventos por tipo.\n"
   ]
  },
  {
   "cell_type": "code",
   "execution_count": 531,
   "metadata": {},
   "outputs": [],
   "source": [
    "url_events = \"https://eonet.gsfc.nasa.gov/api/v3/events\"\n",
    "url_categorias = \"https://eonet.gsfc.nasa.gov/api/v3/categories\"\n"
   ]
  },
  {
   "cell_type": "markdown",
   "metadata": {},
   "source": [
    "### Requests para obter os dados das Apis"
   ]
  },
  {
   "cell_type": "code",
   "execution_count": 532,
   "metadata": {},
   "outputs": [],
   "source": [
    "response_events = requests.get(url_events)\n",
    "response_categorias = requests.get(url_categorias)\n"
   ]
  },
  {
   "cell_type": "markdown",
   "metadata": {},
   "source": [
    "### Tratamento dos dados\n",
    "\n",
    "É extraido o json que posteriormente é normalizado e tranformado para o tipo pandas dataframe para possibilitar tratar e interagir os dados\n",
    " "
   ]
  },
  {
   "cell_type": "code",
   "execution_count": 533,
   "metadata": {},
   "outputs": [],
   "source": [
    "#captura a informação dos json\n",
    "data_events = response_events.json()\n",
    "data_categorias = response_categorias.json()\n",
    "\n",
    "\n",
    "events = data_events['events']\n",
    "categorias = data_categorias['categories']\n",
    "\n",
    "\n",
    "\n",
    "df_events = pd.json_normalize(events)\n",
    "df_categorias = pd.json_normalize(categorias)\n",
    "    "
   ]
  },
  {
   "cell_type": "markdown",
   "metadata": {},
   "source": [
    "### Possíveis Categorias de Eventos Presentes nos Dados do EONET\n",
    "\n",
    "**Seca**: Ausência prolongada de precipitação, afetando a agricultura, pecuária e a disponibilidade geral de alimentos e água.\n",
    "\n",
    "**Terremotos**: Relacionado a todos os tipos de tremores e deslocamentos. Certos efeitos dos terremotos também podem ser encontrados em deslizamentos de terra e inundações.\n",
    "\n",
    "**Inundações**: Relacionado aos aspectos de inundação real, como alagamento e expansão de água além dos limites de rios e lagos.\n",
    "\n",
    "**Deslizamentos de Terra**: Relacionado a deslizamentos de terra e suas variações, como deslizamentos de lama e avalanches.\n",
    "\n",
    "**Causados pelo Homem**: Eventos que foram induzidos pelo ser humano e que têm uma extensão extrema.\n",
    "\n",
    "**Gelo no Mar e Lagos**: Relacionado a todo o gelo presente em oceanos e lagos, incluindo gelo permanente e sazonal e icebergs.\n",
    "\n",
    "**Tempestades Severas**: Relacionado ao aspecto atmosférico das tempestades (furacões, ciclones, tornados, etc.). Resultados de tempestades podem ser incluídos em inundações, deslizamentos de terra, etc.\n",
    "\n",
    "**Neve**: Relacionado a eventos de neve, particularmente a nevascas extremas/anômalas em relação ao tempo ou extensão/profundidade.\n",
    "\n",
    "**Extremos de Temperatura**: Relacionado a temperaturas terrestres anômalas, tanto calor quanto frio.\n",
    "\n",
    "**Vulcões**: Relacionado aos efeitos físicos de uma erupção (rochas, cinzas, lava) e aos efeitos atmosféricos (plumas de cinzas e gases).\n",
    "\n",
    "**Cor da Água**: Relacionado a eventos que alteram a aparência da água, como fitoplâncton, maré vermelha, algas, sedimentos, clareamento, etc.\n",
    "\n",
    "**Incêndios Florestais**: Inclui todos os tipos de incêndios, incluindo incêndios em florestas e planícies, bem como incêndios urbanos e industriais. Incêndios podem ser causados naturalmente ou pelo homem.\n"
   ]
  },
  {
   "cell_type": "code",
   "execution_count": 534,
   "metadata": {},
   "outputs": [
    {
     "data": {
      "text/html": [
       "<style type=\"text/css\">\n",
       "#T_742a9 th {\n",
       "  text-align: left;\n",
       "}\n",
       "#T_742a9 td {\n",
       "  text-align: left;\n",
       "}\n",
       "</style>\n",
       "<table id=\"T_742a9\">\n",
       "  <thead>\n",
       "    <tr>\n",
       "      <th class=\"blank level0\" >&nbsp;</th>\n",
       "      <th id=\"T_742a9_level0_col0\" class=\"col_heading level0 col0\" >title</th>\n",
       "      <th id=\"T_742a9_level0_col1\" class=\"col_heading level0 col1\" >description</th>\n",
       "    </tr>\n",
       "  </thead>\n",
       "  <tbody>\n",
       "    <tr>\n",
       "      <th id=\"T_742a9_level0_row0\" class=\"row_heading level0 row0\" >0</th>\n",
       "      <td id=\"T_742a9_row0_col0\" class=\"data row0 col0\" >Drought</td>\n",
       "      <td id=\"T_742a9_row0_col1\" class=\"data row0 col1\" >Long lasting absence of precipitation affecting agriculture and livestock, and the overall availability of food and water.</td>\n",
       "    </tr>\n",
       "    <tr>\n",
       "      <th id=\"T_742a9_level0_row1\" class=\"row_heading level0 row1\" >1</th>\n",
       "      <td id=\"T_742a9_row1_col0\" class=\"data row1 col0\" >Dust and Haze</td>\n",
       "      <td id=\"T_742a9_row1_col1\" class=\"data row1 col1\" >Related to dust storms, air pollution and other non-volcanic aerosols. Volcano-related plumes shall be included with the originating eruption event.</td>\n",
       "    </tr>\n",
       "    <tr>\n",
       "      <th id=\"T_742a9_level0_row2\" class=\"row_heading level0 row2\" >2</th>\n",
       "      <td id=\"T_742a9_row2_col0\" class=\"data row2 col0\" >Earthquakes</td>\n",
       "      <td id=\"T_742a9_row2_col1\" class=\"data row2 col1\" >Related to all manner of shaking and displacement. Certain aftermath of earthquakes may also be found under landslides and floods.</td>\n",
       "    </tr>\n",
       "    <tr>\n",
       "      <th id=\"T_742a9_level0_row3\" class=\"row_heading level0 row3\" >3</th>\n",
       "      <td id=\"T_742a9_row3_col0\" class=\"data row3 col0\" >Floods</td>\n",
       "      <td id=\"T_742a9_row3_col1\" class=\"data row3 col1\" >Related to aspects of actual flooding--e.g., inundation, water extending beyond river and lake extents.</td>\n",
       "    </tr>\n",
       "    <tr>\n",
       "      <th id=\"T_742a9_level0_row4\" class=\"row_heading level0 row4\" >4</th>\n",
       "      <td id=\"T_742a9_row4_col0\" class=\"data row4 col0\" >Landslides</td>\n",
       "      <td id=\"T_742a9_row4_col1\" class=\"data row4 col1\" >Related to landslides and variations thereof: mudslides, avalanche.</td>\n",
       "    </tr>\n",
       "    <tr>\n",
       "      <th id=\"T_742a9_level0_row5\" class=\"row_heading level0 row5\" >5</th>\n",
       "      <td id=\"T_742a9_row5_col0\" class=\"data row5 col0\" >Manmade</td>\n",
       "      <td id=\"T_742a9_row5_col1\" class=\"data row5 col1\" >Events that have been human-induced and are extreme in their extent.</td>\n",
       "    </tr>\n",
       "    <tr>\n",
       "      <th id=\"T_742a9_level0_row6\" class=\"row_heading level0 row6\" >6</th>\n",
       "      <td id=\"T_742a9_row6_col0\" class=\"data row6 col0\" >Sea and Lake Ice</td>\n",
       "      <td id=\"T_742a9_row6_col1\" class=\"data row6 col1\" >Related to all ice that resides on oceans and lakes, including sea and lake ice (permanent and seasonal) and icebergs.</td>\n",
       "    </tr>\n",
       "    <tr>\n",
       "      <th id=\"T_742a9_level0_row7\" class=\"row_heading level0 row7\" >7</th>\n",
       "      <td id=\"T_742a9_row7_col0\" class=\"data row7 col0\" >Severe Storms</td>\n",
       "      <td id=\"T_742a9_row7_col1\" class=\"data row7 col1\" >Related to the atmospheric aspect of storms (hurricanes, cyclones, tornadoes, etc.). Results of storms may be included under floods, landslides, etc.</td>\n",
       "    </tr>\n",
       "    <tr>\n",
       "      <th id=\"T_742a9_level0_row8\" class=\"row_heading level0 row8\" >8</th>\n",
       "      <td id=\"T_742a9_row8_col0\" class=\"data row8 col0\" >Snow</td>\n",
       "      <td id=\"T_742a9_row8_col1\" class=\"data row8 col1\" >Related to snow events, particularly extreme/anomalous snowfall in either timing or extent/depth.</td>\n",
       "    </tr>\n",
       "    <tr>\n",
       "      <th id=\"T_742a9_level0_row9\" class=\"row_heading level0 row9\" >9</th>\n",
       "      <td id=\"T_742a9_row9_col0\" class=\"data row9 col0\" >Temperature Extremes</td>\n",
       "      <td id=\"T_742a9_row9_col1\" class=\"data row9 col1\" >Related to anomalous land temperatures, either heat or cold.</td>\n",
       "    </tr>\n",
       "    <tr>\n",
       "      <th id=\"T_742a9_level0_row10\" class=\"row_heading level0 row10\" >10</th>\n",
       "      <td id=\"T_742a9_row10_col0\" class=\"data row10 col0\" >Volcanoes</td>\n",
       "      <td id=\"T_742a9_row10_col1\" class=\"data row10 col1\" >Related to both the physical effects of an eruption (rock, ash, lava) and the atmospheric (ash and gas plumes).</td>\n",
       "    </tr>\n",
       "    <tr>\n",
       "      <th id=\"T_742a9_level0_row11\" class=\"row_heading level0 row11\" >11</th>\n",
       "      <td id=\"T_742a9_row11_col0\" class=\"data row11 col0\" >Water Color</td>\n",
       "      <td id=\"T_742a9_row11_col1\" class=\"data row11 col1\" >Related to events that alter the appearance of water: phytoplankton, red tide, algae, sediment, whiting, etc.</td>\n",
       "    </tr>\n",
       "    <tr>\n",
       "      <th id=\"T_742a9_level0_row12\" class=\"row_heading level0 row12\" >12</th>\n",
       "      <td id=\"T_742a9_row12_col0\" class=\"data row12 col0\" >Wildfires</td>\n",
       "      <td id=\"T_742a9_row12_col1\" class=\"data row12 col1\" >Wildfires includes all nature of fire, including forest and plains fires, as well as urban and industrial fire events. Fires may be naturally caused or manmade.</td>\n",
       "    </tr>\n",
       "  </tbody>\n",
       "</table>\n"
      ],
      "text/plain": [
       "<pandas.io.formats.style.Styler at 0x2ac9de2fef0>"
      ]
     },
     "execution_count": 534,
     "metadata": {},
     "output_type": "execute_result"
    }
   ],
   "source": [
    "#título das categorias dos eventos\n",
    "categorias = df_categorias[['title','description']]\n",
    "\n",
    "#alinha titulo e conteudo do df para a esquerda\n",
    "categorias= categorias.style.set_table_styles(\n",
    "    [{'selector': 'th', 'props': [('text-align', 'left')]},    \n",
    "     {'selector': 'td', 'props': [('text-align', 'left')]}]    \n",
    ")\n",
    "\n",
    "categorias\n"
   ]
  },
  {
   "cell_type": "markdown",
   "metadata": {},
   "source": [
    "### Tabela de Informações sobre Eventos na API EONET\n",
    "\n",
    "A tabela `events` da API EONET contém informações detalhadas sobre eventos naturais em tempo real. Cada evento inclui os seguintes campos:\n",
    "\n",
    "- **ID**: Identificador único do evento.\n",
    "- **Título (title)**: Nome ou título descritivo do evento.\n",
    "- **Descrição (description)**: Detalhes adicionais sobre o evento, como a natureza e a extensão do impacto.\n",
    "- **Link (link)**: URL para mais informações sobre o evento.\n",
    "- **Status**: Indica o estado do evento (e.g., \"open\" para ativo e \"closed\" para encerrado).\n",
    "- **Categorias (categories)**: Lista das categorias às quais o evento pertence, como \"Severe Storms\", \"Wildfires\", \"Volcanoes\", etc.\n",
    "- **Fontes (sources)**: Fontes que reportaram o evento, como instituições meteorológicas ou de monitoramento ambiental.\n",
    "- **Geometria (geometry)**: Coordenadas geográficas associadas ao evento, incluindo informações sobre o tipo de localização, magnitude, unidade de magnitude e a data do evento.\n",
    "\n",
    "Cada campo oferece uma visão mais completa e organizada dos eventos naturais, permitindo análise detalhada e monitoramento por categoria, local e estado do evento.\n"
   ]
  },
  {
   "cell_type": "code",
   "execution_count": 535,
   "metadata": {},
   "outputs": [
    {
     "data": {
      "text/html": [
       "<div>\n",
       "<style scoped>\n",
       "    .dataframe tbody tr th:only-of-type {\n",
       "        vertical-align: middle;\n",
       "    }\n",
       "\n",
       "    .dataframe tbody tr th {\n",
       "        vertical-align: top;\n",
       "    }\n",
       "\n",
       "    .dataframe thead th {\n",
       "        text-align: right;\n",
       "    }\n",
       "</style>\n",
       "<table border=\"1\" class=\"dataframe\">\n",
       "  <thead>\n",
       "    <tr style=\"text-align: right;\">\n",
       "      <th></th>\n",
       "      <th>id</th>\n",
       "      <th>title</th>\n",
       "      <th>description</th>\n",
       "      <th>link</th>\n",
       "      <th>closed</th>\n",
       "      <th>categories</th>\n",
       "      <th>sources</th>\n",
       "      <th>geometry</th>\n",
       "    </tr>\n",
       "  </thead>\n",
       "  <tbody>\n",
       "    <tr>\n",
       "      <th>0</th>\n",
       "      <td>EONET_11744</td>\n",
       "      <td>Tropical Cyclone Dana</td>\n",
       "      <td>None</td>\n",
       "      <td>https://eonet.gsfc.nasa.gov/api/v3/events/EONE...</td>\n",
       "      <td>None</td>\n",
       "      <td>[{'id': 'severeStorms', 'title': 'Severe Storm...</td>\n",
       "      <td>[{'id': 'JTWC', 'url': 'https://www.metoc.navy...</td>\n",
       "      <td>[{'magnitudeValue': 35.0, 'magnitudeUnit': 'kt...</td>\n",
       "    </tr>\n",
       "    <tr>\n",
       "      <th>1</th>\n",
       "      <td>EONET_11729</td>\n",
       "      <td>Hurricane Kristy</td>\n",
       "      <td>None</td>\n",
       "      <td>https://eonet.gsfc.nasa.gov/api/v3/events/EONE...</td>\n",
       "      <td>None</td>\n",
       "      <td>[{'id': 'severeStorms', 'title': 'Severe Storm...</td>\n",
       "      <td>[{'id': 'JTWC', 'url': 'https://www.metoc.navy...</td>\n",
       "      <td>[{'magnitudeValue': 35.0, 'magnitudeUnit': 'kt...</td>\n",
       "    </tr>\n",
       "    <tr>\n",
       "      <th>2</th>\n",
       "      <td>EONET_11728</td>\n",
       "      <td>Tropical Storm Trami</td>\n",
       "      <td>None</td>\n",
       "      <td>https://eonet.gsfc.nasa.gov/api/v3/events/EONE...</td>\n",
       "      <td>None</td>\n",
       "      <td>[{'id': 'severeStorms', 'title': 'Severe Storm...</td>\n",
       "      <td>[{'id': 'JTWC', 'url': 'https://www.metoc.navy...</td>\n",
       "      <td>[{'magnitudeValue': 35.0, 'magnitudeUnit': 'kt...</td>\n",
       "    </tr>\n",
       "    <tr>\n",
       "      <th>3</th>\n",
       "      <td>EONET_11730</td>\n",
       "      <td>Eagle Butte Wildfire, Blaine, Montana</td>\n",
       "      <td>5 NM SE of Lodgepole, MT</td>\n",
       "      <td>https://eonet.gsfc.nasa.gov/api/v3/events/EONE...</td>\n",
       "      <td>None</td>\n",
       "      <td>[{'id': 'wildfires', 'title': 'Wildfires'}]</td>\n",
       "      <td>[{'id': 'IRWIN', 'url': 'https://irwin.doi.gov...</td>\n",
       "      <td>[{'magnitudeValue': 600.0, 'magnitudeUnit': 'a...</td>\n",
       "    </tr>\n",
       "    <tr>\n",
       "      <th>4</th>\n",
       "      <td>EONET_11731</td>\n",
       "      <td>DOVE Wildfire, Kern, California</td>\n",
       "      <td>City of Weldon 13 Miles to the NW</td>\n",
       "      <td>https://eonet.gsfc.nasa.gov/api/v3/events/EONE...</td>\n",
       "      <td>None</td>\n",
       "      <td>[{'id': 'wildfires', 'title': 'Wildfires'}]</td>\n",
       "      <td>[{'id': 'IRWIN', 'url': 'https://irwin.doi.gov...</td>\n",
       "      <td>[{'magnitudeValue': 954.0, 'magnitudeUnit': 'a...</td>\n",
       "    </tr>\n",
       "    <tr>\n",
       "      <th>5</th>\n",
       "      <td>EONET_11727</td>\n",
       "      <td>Tropical Storm Oscar</td>\n",
       "      <td>None</td>\n",
       "      <td>https://eonet.gsfc.nasa.gov/api/v3/events/EONE...</td>\n",
       "      <td>None</td>\n",
       "      <td>[{'id': 'severeStorms', 'title': 'Severe Storm...</td>\n",
       "      <td>[{'id': 'NOAA_NHC', 'url': 'https://www.nhc.no...</td>\n",
       "      <td>[{'magnitudeValue': 35.0, 'magnitudeUnit': 'kt...</td>\n",
       "    </tr>\n",
       "  </tbody>\n",
       "</table>\n",
       "</div>"
      ],
      "text/plain": [
       "            id                                  title  \\\n",
       "0  EONET_11744                  Tropical Cyclone Dana   \n",
       "1  EONET_11729                       Hurricane Kristy   \n",
       "2  EONET_11728                   Tropical Storm Trami   \n",
       "3  EONET_11730  Eagle Butte Wildfire, Blaine, Montana   \n",
       "4  EONET_11731        DOVE Wildfire, Kern, California   \n",
       "5  EONET_11727                   Tropical Storm Oscar   \n",
       "\n",
       "                         description  \\\n",
       "0                               None   \n",
       "1                               None   \n",
       "2                               None   \n",
       "3           5 NM SE of Lodgepole, MT   \n",
       "4  City of Weldon 13 Miles to the NW   \n",
       "5                               None   \n",
       "\n",
       "                                                link closed  \\\n",
       "0  https://eonet.gsfc.nasa.gov/api/v3/events/EONE...   None   \n",
       "1  https://eonet.gsfc.nasa.gov/api/v3/events/EONE...   None   \n",
       "2  https://eonet.gsfc.nasa.gov/api/v3/events/EONE...   None   \n",
       "3  https://eonet.gsfc.nasa.gov/api/v3/events/EONE...   None   \n",
       "4  https://eonet.gsfc.nasa.gov/api/v3/events/EONE...   None   \n",
       "5  https://eonet.gsfc.nasa.gov/api/v3/events/EONE...   None   \n",
       "\n",
       "                                          categories  \\\n",
       "0  [{'id': 'severeStorms', 'title': 'Severe Storm...   \n",
       "1  [{'id': 'severeStorms', 'title': 'Severe Storm...   \n",
       "2  [{'id': 'severeStorms', 'title': 'Severe Storm...   \n",
       "3        [{'id': 'wildfires', 'title': 'Wildfires'}]   \n",
       "4        [{'id': 'wildfires', 'title': 'Wildfires'}]   \n",
       "5  [{'id': 'severeStorms', 'title': 'Severe Storm...   \n",
       "\n",
       "                                             sources  \\\n",
       "0  [{'id': 'JTWC', 'url': 'https://www.metoc.navy...   \n",
       "1  [{'id': 'JTWC', 'url': 'https://www.metoc.navy...   \n",
       "2  [{'id': 'JTWC', 'url': 'https://www.metoc.navy...   \n",
       "3  [{'id': 'IRWIN', 'url': 'https://irwin.doi.gov...   \n",
       "4  [{'id': 'IRWIN', 'url': 'https://irwin.doi.gov...   \n",
       "5  [{'id': 'NOAA_NHC', 'url': 'https://www.nhc.no...   \n",
       "\n",
       "                                            geometry  \n",
       "0  [{'magnitudeValue': 35.0, 'magnitudeUnit': 'kt...  \n",
       "1  [{'magnitudeValue': 35.0, 'magnitudeUnit': 'kt...  \n",
       "2  [{'magnitudeValue': 35.0, 'magnitudeUnit': 'kt...  \n",
       "3  [{'magnitudeValue': 600.0, 'magnitudeUnit': 'a...  \n",
       "4  [{'magnitudeValue': 954.0, 'magnitudeUnit': 'a...  \n",
       "5  [{'magnitudeValue': 35.0, 'magnitudeUnit': 'kt...  "
      ]
     },
     "execution_count": 535,
     "metadata": {},
     "output_type": "execute_result"
    }
   ],
   "source": [
    "pd.options.display.max_colwidth = 50\n",
    "df_events.head(6)\n"
   ]
  },
  {
   "cell_type": "markdown",
   "metadata": {},
   "source": [
    "### Apesar da grande quantidade de possibilidades de categorias para os diversos eventos, essa API contém dados apenas de  tempestades severas, incêndios florestais, vulcões e icebergs. "
   ]
  },
  {
   "cell_type": "code",
   "execution_count": 536,
   "metadata": {},
   "outputs": [
    {
     "name": "stdout",
     "output_type": "stream",
     "text": [
      "['severeStorms' 'wildfires' 'volcanoes' 'seaLakeIce']\n"
     ]
    }
   ],
   "source": [
    "#todos os tipos de eventos armazenados \n",
    "titulos = df_events['categories'].apply(lambda x: [d['id'] for d in x]) #separando a categoria \n",
    "\n",
    "titulos_exploded = titulos.explode('titulos')\n",
    "\n",
    "titulos_unicos = titulos_exploded.unique()\n",
    "print(titulos_unicos)"
   ]
  },
  {
   "cell_type": "code",
   "execution_count": 537,
   "metadata": {},
   "outputs": [
    {
     "data": {
      "text/plain": [
       "categories\n",
       "wildfires       3600\n",
       "seaLakeIce        45\n",
       "volcanoes         33\n",
       "severeStorms       5\n",
       "Name: count, dtype: int64"
      ]
     },
     "execution_count": 537,
     "metadata": {},
     "output_type": "execute_result"
    }
   ],
   "source": [
    "contagem = titulos_exploded.value_counts()\n",
    "contagem_normalizada = titulos_exploded.value_counts(normalize= True)\n",
    "\n",
    "contagem"
   ]
  },
  {
   "cell_type": "markdown",
   "metadata": {},
   "source": [
    "### Quantidade de eventos disponíveis para cada categoria.\n",
    "O gráfico mostra que a grande maioria dos eventos registrados são de incêndios florestais, totalizando 3.600 ocorrências. Em contraste, as demais categorias possuem números significativamente menores, com 45 eventos de icebergs, 33 de vulcões e apenas 5 de tempestades severas."
   ]
  },
  {
   "cell_type": "code",
   "execution_count": 538,
   "metadata": {},
   "outputs": [
    {
     "data": {
      "image/png": "[encoded data removed]",
      "text/plain": [
       "<Figure size 640x480 with 1 Axes>"
      ]
     },
     "metadata": {},
     "output_type": "display_data"
    }
   ],
   "source": [
    "x = contagem_normalizada.index\n",
    "y = contagem_normalizada\n",
    "\n",
    "plt.xlabel(\"Titles\")\n",
    "plt.title(\"Quantidade de eventos\")\n",
    "plt.bar(x,y)\n",
    "plt.show()"
   ]
  },
  {
   "cell_type": "code",
   "execution_count": 539,
   "metadata": {},
   "outputs": [
    {
     "data": {
      "text/html": [
       "<div>\n",
       "<style scoped>\n",
       "    .dataframe tbody tr th:only-of-type {\n",
       "        vertical-align: middle;\n",
       "    }\n",
       "\n",
       "    .dataframe tbody tr th {\n",
       "        vertical-align: top;\n",
       "    }\n",
       "\n",
       "    .dataframe thead th {\n",
       "        text-align: right;\n",
       "    }\n",
       "</style>\n",
       "<table border=\"1\" class=\"dataframe\">\n",
       "  <thead>\n",
       "    <tr style=\"text-align: right;\">\n",
       "      <th></th>\n",
       "      <th>id</th>\n",
       "      <th>title</th>\n",
       "      <th>description</th>\n",
       "      <th>link</th>\n",
       "      <th>closed</th>\n",
       "      <th>categories</th>\n",
       "      <th>sources</th>\n",
       "      <th>geometry</th>\n",
       "      <th>categoria_evento</th>\n",
       "    </tr>\n",
       "  </thead>\n",
       "  <tbody>\n",
       "    <tr>\n",
       "      <th>0</th>\n",
       "      <td>EONET_11744</td>\n",
       "      <td>Tropical Cyclone Dana</td>\n",
       "      <td>None</td>\n",
       "      <td>https://eonet.gsfc.nasa.gov/api/v3/events/EONE...</td>\n",
       "      <td>None</td>\n",
       "      <td>[{'id': 'severeStorms', 'title': 'Severe Storm...</td>\n",
       "      <td>[{'id': 'JTWC', 'url': 'https://www.metoc.navy...</td>\n",
       "      <td>[{'magnitudeValue': 35.0, 'magnitudeUnit': 'kt...</td>\n",
       "      <td>severeStorms</td>\n",
       "    </tr>\n",
       "  </tbody>\n",
       "</table>\n",
       "</div>"
      ],
      "text/plain": [
       "            id                  title description  \\\n",
       "0  EONET_11744  Tropical Cyclone Dana        None   \n",
       "\n",
       "                                                link closed  \\\n",
       "0  https://eonet.gsfc.nasa.gov/api/v3/events/EONE...   None   \n",
       "\n",
       "                                          categories  \\\n",
       "0  [{'id': 'severeStorms', 'title': 'Severe Storm...   \n",
       "\n",
       "                                             sources  \\\n",
       "0  [{'id': 'JTWC', 'url': 'https://www.metoc.navy...   \n",
       "\n",
       "                                            geometry categoria_evento  \n",
       "0  [{'magnitudeValue': 35.0, 'magnitudeUnit': 'kt...     severeStorms  "
      ]
     },
     "execution_count": 539,
     "metadata": {},
     "output_type": "execute_result"
    }
   ],
   "source": [
    "df_events['categoria_evento'] = titulos.apply(lambda x: x[0]) #separando a categoria de cada evento e adicionado na própria tabela de eventos\n",
    "\n",
    "df_events.head(1)"
   ]
  },
  {
   "cell_type": "code",
   "execution_count": 540,
   "metadata": {},
   "outputs": [
    {
     "data": {
      "text/html": [
       "<div>\n",
       "<style scoped>\n",
       "    .dataframe tbody tr th:only-of-type {\n",
       "        vertical-align: middle;\n",
       "    }\n",
       "\n",
       "    .dataframe tbody tr th {\n",
       "        vertical-align: top;\n",
       "    }\n",
       "\n",
       "    .dataframe thead th {\n",
       "        text-align: right;\n",
       "    }\n",
       "</style>\n",
       "<table border=\"1\" class=\"dataframe\">\n",
       "  <thead>\n",
       "    <tr style=\"text-align: right;\">\n",
       "      <th></th>\n",
       "      <th>id</th>\n",
       "      <th>title</th>\n",
       "      <th>description</th>\n",
       "      <th>link</th>\n",
       "      <th>closed</th>\n",
       "      <th>categories</th>\n",
       "      <th>sources</th>\n",
       "      <th>geometry</th>\n",
       "      <th>categoria_evento</th>\n",
       "      <th>magnitude_evento</th>\n",
       "    </tr>\n",
       "  </thead>\n",
       "  <tbody>\n",
       "    <tr>\n",
       "      <th>0</th>\n",
       "      <td>EONET_11744</td>\n",
       "      <td>Tropical Cyclone Dana</td>\n",
       "      <td>None</td>\n",
       "      <td>https://eonet.gsfc.nasa.gov/api/v3/events/EONE...</td>\n",
       "      <td>None</td>\n",
       "      <td>[{'id': 'severeStorms', 'title': 'Severe Storm...</td>\n",
       "      <td>[{'id': 'JTWC', 'url': 'https://www.metoc.navy...</td>\n",
       "      <td>[{'magnitudeValue': 35.0, 'magnitudeUnit': 'kt...</td>\n",
       "      <td>severeStorms</td>\n",
       "      <td>[35.0, 45.0, 55.0, 60.0, 65.0, 65.0, 65.0, 60.0]</td>\n",
       "    </tr>\n",
       "  </tbody>\n",
       "</table>\n",
       "</div>"
      ],
      "text/plain": [
       "            id                  title description  \\\n",
       "0  EONET_11744  Tropical Cyclone Dana        None   \n",
       "\n",
       "                                                link closed  \\\n",
       "0  https://eonet.gsfc.nasa.gov/api/v3/events/EONE...   None   \n",
       "\n",
       "                                          categories  \\\n",
       "0  [{'id': 'severeStorms', 'title': 'Severe Storm...   \n",
       "\n",
       "                                             sources  \\\n",
       "0  [{'id': 'JTWC', 'url': 'https://www.metoc.navy...   \n",
       "\n",
       "                                            geometry categoria_evento  \\\n",
       "0  [{'magnitudeValue': 35.0, 'magnitudeUnit': 'kt...     severeStorms   \n",
       "\n",
       "                                   magnitude_evento  \n",
       "0  [35.0, 45.0, 55.0, 60.0, 65.0, 65.0, 65.0, 60.0]  "
      ]
     },
     "execution_count": 540,
     "metadata": {},
     "output_type": "execute_result"
    }
   ],
   "source": [
    "df_events['magnitude_evento'] = df_events['geometry'].apply(lambda x: [d['magnitudeValue'] for d in x]) #separando o vetor de magnitudes dos eventos e adicionando na própria tabela de eventos\n",
    "\n",
    "df_events.head(1)"
   ]
  },
  {
   "cell_type": "markdown",
   "metadata": {},
   "source": [
    "### Análise de Tempestades Severas"
   ]
  },
  {
   "cell_type": "code",
   "execution_count": 541,
   "metadata": {},
   "outputs": [
    {
     "data": {
      "text/html": [
       "<div>\n",
       "<style scoped>\n",
       "    .dataframe tbody tr th:only-of-type {\n",
       "        vertical-align: middle;\n",
       "    }\n",
       "\n",
       "    .dataframe tbody tr th {\n",
       "        vertical-align: top;\n",
       "    }\n",
       "\n",
       "    .dataframe thead th {\n",
       "        text-align: right;\n",
       "    }\n",
       "</style>\n",
       "<table border=\"1\" class=\"dataframe\">\n",
       "  <thead>\n",
       "    <tr style=\"text-align: right;\">\n",
       "      <th></th>\n",
       "      <th>title</th>\n",
       "      <th>media_magnitude</th>\n",
       "    </tr>\n",
       "  </thead>\n",
       "  <tbody>\n",
       "    <tr>\n",
       "      <th>0</th>\n",
       "      <td>Tropical Cyclone Dana</td>\n",
       "      <td>56.250000</td>\n",
       "    </tr>\n",
       "    <tr>\n",
       "      <th>1</th>\n",
       "      <td>Hurricane Kristy</td>\n",
       "      <td>85.200000</td>\n",
       "    </tr>\n",
       "    <tr>\n",
       "      <th>2</th>\n",
       "      <td>Tropical Storm Trami</td>\n",
       "      <td>44.615385</td>\n",
       "    </tr>\n",
       "    <tr>\n",
       "      <th>5</th>\n",
       "      <td>Tropical Storm Oscar</td>\n",
       "      <td>54.615385</td>\n",
       "    </tr>\n",
       "    <tr>\n",
       "      <th>6</th>\n",
       "      <td>Tropical Storm Nadine</td>\n",
       "      <td>33.333333</td>\n",
       "    </tr>\n",
       "  </tbody>\n",
       "</table>\n",
       "</div>"
      ],
      "text/plain": [
       "                   title  media_magnitude\n",
       "0  Tropical Cyclone Dana        56.250000\n",
       "1       Hurricane Kristy        85.200000\n",
       "2   Tropical Storm Trami        44.615385\n",
       "5   Tropical Storm Oscar        54.615385\n",
       "6  Tropical Storm Nadine        33.333333"
      ]
     },
     "execution_count": 541,
     "metadata": {},
     "output_type": "execute_result"
    }
   ],
   "source": [
    "df_events_storms = df_events.query('categoria_evento == \"severeStorms\"') #selecioando as tempestades severas\n",
    " \n",
    "df_events_storms['media_magnitude'] = df_events_storms['magnitude_evento'].apply(lambda x: np.mean(x)) #calculando a média de magnitude \n",
    "\n",
    "df_magnitude_grafico = df_events_storms[['title', 'media_magnitude']]\n",
    "\n",
    "df_magnitude_grafico\n",
    "\n"
   ]
  },
  {
   "cell_type": "markdown",
   "metadata": {},
   "source": [
    "## Gráfico da itensidade das tempestades\n",
    "Aqui podemos ver que a tempestade que consta nos dados da API com mair magnitude é a Hurricane Kristy, e a menor a Tropical Storm Nadine.\t"
   ]
  },
  {
   "cell_type": "code",
   "execution_count": 542,
   "metadata": {},
   "outputs": [
    {
     "data": {
      "image/png": "[encoded data removed]",
      "text/plain": [
       "<Figure size 1000x600 with 1 Axes>"
      ]
     },
     "metadata": {},
     "output_type": "display_data"
    }
   ],
   "source": [
    "x = df_magnitude_grafico['title']\n",
    "y = df_magnitude_grafico['media_magnitude']\n",
    "\n",
    "plt.figure(figsize=(10, 6)) \n",
    "plt.bar(x, y, width=0.8, edgecolor=\"white\", linewidth=0.7)\n",
    "\n",
    "plt.xticks(rotation=90)\n",
    "\n",
    "plt.xlabel('Tempestades')\n",
    "plt.ylabel('magnitude (kts)')\n",
    "plt.title('Intensidade das tempestades')\n",
    "\n",
    "plt.show()\n",
    "\n",
    "\n"
   ]
  },
  {
   "cell_type": "markdown",
   "metadata": {},
   "source": [
    "### Criação da tabela de incêndios florestais\n",
    "Tabela sobre a relação mês e magnitude\n"
   ]
  },
  {
   "cell_type": "code",
   "execution_count": 543,
   "metadata": {},
   "outputs": [],
   "source": [
    "df_events_wildfire = df_events.query('categoria_evento == \"wildfires\"')\n",
    "\n",
    "df_wildfire_tempo = df_events_wildfire[['title','magnitude_evento']]\n",
    "\n",
    "df_wildfire_tempo['magnitude_evento'] = df_wildfire_tempo['magnitude_evento'].apply(lambda x: x[0]) #retirar o valor da lista\n",
    "\n",
    "df_wildfire_tempo['data'] = df_events_wildfire['geometry'].apply(lambda x: [d['date'] for d in x] ) #retirar o valor da data da lista presente em geometry\n",
    "df_wildfire_tempo['data'] = df_wildfire_tempo['data'].apply(lambda x: x[0]) #retirar o valor da lista\n",
    "df_wildfire_tempo['data'] = pd.to_datetime(df_wildfire_tempo['data'], errors='coerce') #transforma o valor em datetime\n",
    "df_wildfire_tempo['data'] = df_wildfire_tempo['data'].dt.month #extrai apenas o mês da data\n",
    "\n",
    "\n"
   ]
  },
  {
   "cell_type": "markdown",
   "metadata": {},
   "source": [
    "### Gráfico scatter que mostra a relação entre a magnitude do evento e o mês de inicio do evento\n",
    "Analisando o gráfico é possível perceber que a grande quantiadade dos incêndios se concentra entre os meses de junho e setembro. Além disso esses mesmos meses também contam com uma alta concentração de outliers em relação ao restante dos meses, o que demonstra que os incendios mais intensos e preocupantes ocorreram nesse periodo. "
   ]
  },
  {
   "cell_type": "code",
   "execution_count": 544,
   "metadata": {},
   "outputs": [
    {
     "data": {
      "image/png": "[encoded data removed]",
      "text/plain": [
       "<Figure size 1000x600 with 1 Axes>"
      ]
     },
     "metadata": {},
     "output_type": "display_data"
    }
   ],
   "source": [
    "x = df_wildfire_tempo['data'] \n",
    "y = df_wildfire_tempo['magnitude_evento']\n",
    "\n",
    "plt.figure(figsize=(10, 6)) \n",
    "plt.scatter(x, y)\n",
    "\n",
    "plt.xlabel(\"Mês\")\n",
    "plt.ylabel(\"Magnitude do Evento\")\n",
    "plt.title(\"Magnitude dos incêncios ao Longo do Tempo\")\n",
    "\n",
    "plt.xticks(np.arange(0, 13, step=1))\n",
    "plt.show()\n"
   ]
  },
  {
   "cell_type": "code",
   "execution_count": 545,
   "metadata": {},
   "outputs": [
    {
     "data": {
      "text/html": [
       "<div>\n",
       "<style scoped>\n",
       "    .dataframe tbody tr th:only-of-type {\n",
       "        vertical-align: middle;\n",
       "    }\n",
       "\n",
       "    .dataframe tbody tr th {\n",
       "        vertical-align: top;\n",
       "    }\n",
       "\n",
       "    .dataframe thead th {\n",
       "        text-align: right;\n",
       "    }\n",
       "</style>\n",
       "<table border=\"1\" class=\"dataframe\">\n",
       "  <thead>\n",
       "    <tr style=\"text-align: right;\">\n",
       "      <th></th>\n",
       "      <th>count</th>\n",
       "    </tr>\n",
       "    <tr>\n",
       "      <th>data</th>\n",
       "      <th></th>\n",
       "    </tr>\n",
       "  </thead>\n",
       "  <tbody>\n",
       "    <tr>\n",
       "      <th>8</th>\n",
       "      <td>1126</td>\n",
       "    </tr>\n",
       "    <tr>\n",
       "      <th>7</th>\n",
       "      <td>930</td>\n",
       "    </tr>\n",
       "    <tr>\n",
       "      <th>9</th>\n",
       "      <td>682</td>\n",
       "    </tr>\n",
       "    <tr>\n",
       "      <th>6</th>\n",
       "      <td>558</td>\n",
       "    </tr>\n",
       "    <tr>\n",
       "      <th>10</th>\n",
       "      <td>189</td>\n",
       "    </tr>\n",
       "    <tr>\n",
       "      <th>5</th>\n",
       "      <td>86</td>\n",
       "    </tr>\n",
       "    <tr>\n",
       "      <th>4</th>\n",
       "      <td>12</td>\n",
       "    </tr>\n",
       "    <tr>\n",
       "      <th>3</th>\n",
       "      <td>11</td>\n",
       "    </tr>\n",
       "    <tr>\n",
       "      <th>2</th>\n",
       "      <td>5</td>\n",
       "    </tr>\n",
       "    <tr>\n",
       "      <th>12</th>\n",
       "      <td>1</td>\n",
       "    </tr>\n",
       "  </tbody>\n",
       "</table>\n",
       "</div>"
      ],
      "text/plain": [
       "      count\n",
       "data       \n",
       "8      1126\n",
       "7       930\n",
       "9       682\n",
       "6       558\n",
       "10      189\n",
       "5        86\n",
       "4        12\n",
       "3        11\n",
       "2         5\n",
       "12        1"
      ]
     },
     "execution_count": 545,
     "metadata": {},
     "output_type": "execute_result"
    }
   ],
   "source": [
    "quantidade_wildfires_mes = pd.DataFrame(df_wildfire_tempo[\"data\"].value_counts()) #criando um dataframe a partir da contagem de de incendios por mês\n",
    "quantidade_wildfires_mes\n"
   ]
  },
  {
   "cell_type": "markdown",
   "metadata": {},
   "source": [
    "## Gráfico que mostra a a relação mês x quantiade de incêndios\n",
    "Observando os dados, é possível notar que a ocorrência de incêndios é mais concentrada nos meses de junho a setembro, com um pico em agosto, onde a quantidade ultrapassa 1000 registros. Esse padrão pode indicar uma relação sazonal, com aumento na quantidade de incêndios durante o período de verão ou seca, que geralmente favorece a propagação de incêndios."
   ]
  },
  {
   "cell_type": "code",
   "execution_count": 546,
   "metadata": {},
   "outputs": [
    {
     "data": {
      "image/png": "[encoded data removed]",
      "text/plain": [
       "<Figure size 640x480 with 1 Axes>"
      ]
     },
     "metadata": {},
     "output_type": "display_data"
    }
   ],
   "source": [
    "x = quantidade_wildfires_mes.index \n",
    "y = quantidade_wildfires_mes['count']\n",
    "\n",
    "plt.xlabel(\"mês\")\n",
    "plt.ylabel(\"quantidade de incêndios\")\n",
    "plt.title(\"Quantidade de incêncios por mês\")\n",
    "\n",
    "plt.xticks(np.arange(0, 13, step=1))\n",
    "plt.bar(x,y)\n",
    "\n",
    "plt.show()\n",
    "\n",
    "\n"
   ]
  },
  {
   "cell_type": "code",
   "execution_count": 547,
   "metadata": {},
   "outputs": [],
   "source": [
    "df_data = df_events['geometry'].apply(lambda x:[d['date'] for d in x]) #separando a data da coluna geometry\n",
    "\n",
    "df_data_inicio_raw = df_data.apply(lambda x: x[0]) #armazena a primera data presente no dataframe\n",
    "df_data_inicio = df_data_inicio_raw.apply(lambda x: pd.to_datetime(x)) #transforma todos os valores da coluna para datetime\n",
    "\n",
    "df_data_final_raw = df_data.apply(lambda x: x[len(x)-1]) #armazena a ultima data presente no dataframe\n",
    "df_data_final = df_data_final_raw.apply(lambda x: pd.to_datetime(x)) #transforma todos os valores da coluna para datetime\n",
    "\n",
    "df_data_duracao = df_data_final - df_data_inicio #duracao dos eventos\n",
    "\n",
    "# df_data_duracao"
   ]
  },
  {
   "cell_type": "code",
   "execution_count": 548,
   "metadata": {},
   "outputs": [],
   "source": [
    "dias = df_data_duracao.dt.total_seconds() / 86400 #calcula a duração dos eventos em dias\n",
    "# dias"
   ]
  },
  {
   "cell_type": "code",
   "execution_count": 549,
   "metadata": {},
   "outputs": [
    {
     "data": {
      "text/html": [
       "<div>\n",
       "<style scoped>\n",
       "    .dataframe tbody tr th:only-of-type {\n",
       "        vertical-align: middle;\n",
       "    }\n",
       "\n",
       "    .dataframe tbody tr th {\n",
       "        vertical-align: top;\n",
       "    }\n",
       "\n",
       "    .dataframe thead th {\n",
       "        text-align: right;\n",
       "    }\n",
       "</style>\n",
       "<table border=\"1\" class=\"dataframe\">\n",
       "  <thead>\n",
       "    <tr style=\"text-align: right;\">\n",
       "      <th></th>\n",
       "      <th>categoria_evento</th>\n",
       "      <th>magnitude_evento</th>\n",
       "      <th>duracao_evento</th>\n",
       "      <th>media_magnitude_evento</th>\n",
       "    </tr>\n",
       "  </thead>\n",
       "  <tbody>\n",
       "    <tr>\n",
       "      <th>0</th>\n",
       "      <td>severeStorms</td>\n",
       "      <td>[35.0, 45.0, 55.0, 60.0, 65.0, 65.0, 65.0, 60.0]</td>\n",
       "      <td>1.75</td>\n",
       "      <td>56.250000</td>\n",
       "    </tr>\n",
       "    <tr>\n",
       "      <th>1</th>\n",
       "      <td>severeStorms</td>\n",
       "      <td>[35.0, 35.0, 40.0, 45.0, 50.0, 60.0, 70.0, 80....</td>\n",
       "      <td>5.75</td>\n",
       "      <td>85.200000</td>\n",
       "    </tr>\n",
       "    <tr>\n",
       "      <th>2</th>\n",
       "      <td>severeStorms</td>\n",
       "      <td>[35.0, 35.0, 35.0, 40.0, 45.0, 45.0, 45.0, 45....</td>\n",
       "      <td>6.25</td>\n",
       "      <td>44.615385</td>\n",
       "    </tr>\n",
       "    <tr>\n",
       "      <th>3</th>\n",
       "      <td>wildfires</td>\n",
       "      <td>[600.0]</td>\n",
       "      <td>0.00</td>\n",
       "      <td>600.000000</td>\n",
       "    </tr>\n",
       "  </tbody>\n",
       "</table>\n",
       "</div>"
      ],
      "text/plain": [
       "  categoria_evento                                   magnitude_evento  \\\n",
       "0     severeStorms   [35.0, 45.0, 55.0, 60.0, 65.0, 65.0, 65.0, 60.0]   \n",
       "1     severeStorms  [35.0, 35.0, 40.0, 45.0, 50.0, 60.0, 70.0, 80....   \n",
       "2     severeStorms  [35.0, 35.0, 35.0, 40.0, 45.0, 45.0, 45.0, 45....   \n",
       "3        wildfires                                            [600.0]   \n",
       "\n",
       "   duracao_evento  media_magnitude_evento  \n",
       "0            1.75               56.250000  \n",
       "1            5.75               85.200000  \n",
       "2            6.25               44.615385  \n",
       "3            0.00              600.000000  "
      ]
     },
     "execution_count": 549,
     "metadata": {},
     "output_type": "execute_result"
    }
   ],
   "source": [
    "df_events_correlation =  df_events[['categoria_evento','magnitude_evento']]\n",
    "df_events_correlation['duracao_evento'] = dias\n",
    "\n",
    "df_events_correlation['media_magnitude_evento'] = df_events_correlation['magnitude_evento'].apply(lambda x: np.mean(x) if x[0] is not None else None) #nào calcula a magnitude de listas que contenham None\n",
    "df_events_correlation.head(4)"
   ]
  },
  {
   "cell_type": "code",
   "execution_count": 550,
   "metadata": {},
   "outputs": [],
   "source": [
    "df_events_correlation = df_events_correlation.drop(columns = 'magnitude_evento')"
   ]
  },
  {
   "cell_type": "code",
   "execution_count": 551,
   "metadata": {},
   "outputs": [],
   "source": [
    "label_encoder = LabelEncoder() #cria uma codificação numérica para cada categoria única.\n",
    "df_events_correlation['class_encoded'] = label_encoder.fit_transform(df_events_correlation['categoria_evento']) #substituindo cada valor da categoria por um número inteiro."
   ]
  },
  {
   "cell_type": "markdown",
   "metadata": {},
   "source": [
    "### Class encoded\n",
    "*0*: Icebergs  \n",
    "*1*: Tempestade Severa  \n",
    "*2*: Vulcões  \n",
    "*3*: Incêndios Florestais"
   ]
  },
  {
   "cell_type": "code",
   "execution_count": 552,
   "metadata": {},
   "outputs": [
    {
     "data": {
      "text/html": [
       "<div>\n",
       "<style scoped>\n",
       "    .dataframe tbody tr th:only-of-type {\n",
       "        vertical-align: middle;\n",
       "    }\n",
       "\n",
       "    .dataframe tbody tr th {\n",
       "        vertical-align: top;\n",
       "    }\n",
       "\n",
       "    .dataframe thead th {\n",
       "        text-align: right;\n",
       "    }\n",
       "</style>\n",
       "<table border=\"1\" class=\"dataframe\">\n",
       "  <thead>\n",
       "    <tr style=\"text-align: right;\">\n",
       "      <th></th>\n",
       "      <th>categoria_evento</th>\n",
       "      <th>duracao_evento</th>\n",
       "      <th>media_magnitude_evento</th>\n",
       "      <th>class_encoded</th>\n",
       "    </tr>\n",
       "  </thead>\n",
       "  <tbody>\n",
       "    <tr>\n",
       "      <th>0</th>\n",
       "      <td>severeStorms</td>\n",
       "      <td>1.75</td>\n",
       "      <td>56.250000</td>\n",
       "      <td>1</td>\n",
       "    </tr>\n",
       "    <tr>\n",
       "      <th>1</th>\n",
       "      <td>severeStorms</td>\n",
       "      <td>5.75</td>\n",
       "      <td>85.200000</td>\n",
       "      <td>1</td>\n",
       "    </tr>\n",
       "    <tr>\n",
       "      <th>2</th>\n",
       "      <td>severeStorms</td>\n",
       "      <td>6.25</td>\n",
       "      <td>44.615385</td>\n",
       "      <td>1</td>\n",
       "    </tr>\n",
       "    <tr>\n",
       "      <th>3</th>\n",
       "      <td>wildfires</td>\n",
       "      <td>0.00</td>\n",
       "      <td>600.000000</td>\n",
       "      <td>3</td>\n",
       "    </tr>\n",
       "  </tbody>\n",
       "</table>\n",
       "</div>"
      ],
      "text/plain": [
       "  categoria_evento  duracao_evento  media_magnitude_evento  class_encoded\n",
       "0     severeStorms            1.75               56.250000              1\n",
       "1     severeStorms            5.75               85.200000              1\n",
       "2     severeStorms            6.25               44.615385              1\n",
       "3        wildfires            0.00              600.000000              3"
      ]
     },
     "execution_count": 552,
     "metadata": {},
     "output_type": "execute_result"
    }
   ],
   "source": [
    "df_events_correlation.head(4)"
   ]
  },
  {
   "cell_type": "code",
   "execution_count": 553,
   "metadata": {},
   "outputs": [
    {
     "data": {
      "text/html": [
       "<div>\n",
       "<style scoped>\n",
       "    .dataframe tbody tr th:only-of-type {\n",
       "        vertical-align: middle;\n",
       "    }\n",
       "\n",
       "    .dataframe tbody tr th {\n",
       "        vertical-align: top;\n",
       "    }\n",
       "\n",
       "    .dataframe thead th {\n",
       "        text-align: right;\n",
       "    }\n",
       "</style>\n",
       "<table border=\"1\" class=\"dataframe\">\n",
       "  <thead>\n",
       "    <tr style=\"text-align: right;\">\n",
       "      <th></th>\n",
       "      <th>id</th>\n",
       "      <th>title</th>\n",
       "      <th>description</th>\n",
       "      <th>link</th>\n",
       "      <th>closed</th>\n",
       "      <th>categories</th>\n",
       "      <th>sources</th>\n",
       "      <th>geometry</th>\n",
       "      <th>categoria_evento</th>\n",
       "      <th>magnitude_evento</th>\n",
       "    </tr>\n",
       "  </thead>\n",
       "  <tbody>\n",
       "    <tr>\n",
       "      <th>0</th>\n",
       "      <td>EONET_11744</td>\n",
       "      <td>Tropical Cyclone Dana</td>\n",
       "      <td>None</td>\n",
       "      <td>https://eonet.gsfc.nasa.gov/api/v3/events/EONE...</td>\n",
       "      <td>None</td>\n",
       "      <td>[{'id': 'severeStorms', 'title': 'Severe Storm...</td>\n",
       "      <td>[{'id': 'JTWC', 'url': 'https://www.metoc.navy...</td>\n",
       "      <td>[{'magnitudeValue': 35.0, 'magnitudeUnit': 'kt...</td>\n",
       "      <td>severeStorms</td>\n",
       "      <td>[35.0, 45.0, 55.0, 60.0, 65.0, 65.0, 65.0, 60.0]</td>\n",
       "    </tr>\n",
       "    <tr>\n",
       "      <th>1</th>\n",
       "      <td>EONET_11729</td>\n",
       "      <td>Hurricane Kristy</td>\n",
       "      <td>None</td>\n",
       "      <td>https://eonet.gsfc.nasa.gov/api/v3/events/EONE...</td>\n",
       "      <td>None</td>\n",
       "      <td>[{'id': 'severeStorms', 'title': 'Severe Storm...</td>\n",
       "      <td>[{'id': 'JTWC', 'url': 'https://www.metoc.navy...</td>\n",
       "      <td>[{'magnitudeValue': 35.0, 'magnitudeUnit': 'kt...</td>\n",
       "      <td>severeStorms</td>\n",
       "      <td>[35.0, 35.0, 40.0, 45.0, 50.0, 60.0, 70.0, 80....</td>\n",
       "    </tr>\n",
       "    <tr>\n",
       "      <th>2</th>\n",
       "      <td>EONET_11728</td>\n",
       "      <td>Tropical Storm Trami</td>\n",
       "      <td>None</td>\n",
       "      <td>https://eonet.gsfc.nasa.gov/api/v3/events/EONE...</td>\n",
       "      <td>None</td>\n",
       "      <td>[{'id': 'severeStorms', 'title': 'Severe Storm...</td>\n",
       "      <td>[{'id': 'JTWC', 'url': 'https://www.metoc.navy...</td>\n",
       "      <td>[{'magnitudeValue': 35.0, 'magnitudeUnit': 'kt...</td>\n",
       "      <td>severeStorms</td>\n",
       "      <td>[35.0, 35.0, 35.0, 40.0, 45.0, 45.0, 45.0, 45....</td>\n",
       "    </tr>\n",
       "  </tbody>\n",
       "</table>\n",
       "</div>"
      ],
      "text/plain": [
       "            id                  title description  \\\n",
       "0  EONET_11744  Tropical Cyclone Dana        None   \n",
       "1  EONET_11729       Hurricane Kristy        None   \n",
       "2  EONET_11728   Tropical Storm Trami        None   \n",
       "\n",
       "                                                link closed  \\\n",
       "0  https://eonet.gsfc.nasa.gov/api/v3/events/EONE...   None   \n",
       "1  https://eonet.gsfc.nasa.gov/api/v3/events/EONE...   None   \n",
       "2  https://eonet.gsfc.nasa.gov/api/v3/events/EONE...   None   \n",
       "\n",
       "                                          categories  \\\n",
       "0  [{'id': 'severeStorms', 'title': 'Severe Storm...   \n",
       "1  [{'id': 'severeStorms', 'title': 'Severe Storm...   \n",
       "2  [{'id': 'severeStorms', 'title': 'Severe Storm...   \n",
       "\n",
       "                                             sources  \\\n",
       "0  [{'id': 'JTWC', 'url': 'https://www.metoc.navy...   \n",
       "1  [{'id': 'JTWC', 'url': 'https://www.metoc.navy...   \n",
       "2  [{'id': 'JTWC', 'url': 'https://www.metoc.navy...   \n",
       "\n",
       "                                            geometry categoria_evento  \\\n",
       "0  [{'magnitudeValue': 35.0, 'magnitudeUnit': 'kt...     severeStorms   \n",
       "1  [{'magnitudeValue': 35.0, 'magnitudeUnit': 'kt...     severeStorms   \n",
       "2  [{'magnitudeValue': 35.0, 'magnitudeUnit': 'kt...     severeStorms   \n",
       "\n",
       "                                    magnitude_evento  \n",
       "0   [35.0, 45.0, 55.0, 60.0, 65.0, 65.0, 65.0, 60.0]  \n",
       "1  [35.0, 35.0, 40.0, 45.0, 50.0, 60.0, 70.0, 80....  \n",
       "2  [35.0, 35.0, 35.0, 40.0, 45.0, 45.0, 45.0, 45....  "
      ]
     },
     "execution_count": 553,
     "metadata": {},
     "output_type": "execute_result"
    }
   ],
   "source": [
    "df_events.head(3)"
   ]
  },
  {
   "cell_type": "code",
   "execution_count": 554,
   "metadata": {},
   "outputs": [],
   "source": [
    "df_events_correlation = df_events_correlation.drop(columns = 'categoria_evento')"
   ]
  },
  {
   "cell_type": "markdown",
   "metadata": {},
   "source": [
    "## Análise do Mapa de Correlação\n",
    "\n",
    "\n",
    "1. **Correlação entre duracao_evento e class_encoded**:  \n",
    "   Há uma correlação negativa moderada de **-0.55**, o que sugere que, conforme o valor de class_encoded aumenta, a duração do evento (duracao_evento) tende a diminuir. Essa relação indica que há um padrão de duração dos eventos que varia com as diferentes classes.\n",
    "\n",
    "2. **Correlação entre media_magnitude_evento e class_encoded**:  \n",
    "   A correlação é de **0.05**, praticamente nula, indicando que não há uma relação clara entre a média de magnitude dos eventos (media_magnitude_evento) e as classes (class_encoded). Isso sugere que a média de magnitude dos eventos não é influenciada pela classe dos eventos.\n",
    "\n",
    "3. **Correlação entre duracao_evento e media_magnitude_event**:  \n",
    "   A correlação é de **-0.03**, também próxima de zero, indicando que a duração dos eventos (duracao_evento) não tem uma relação significativa com a média de sua magnitude.\n",
    "\n"
   ]
  },
  {
   "cell_type": "code",
   "execution_count": 555,
   "metadata": {},
   "outputs": [
    {
     "data": {
      "image/png": "[encoded data removed]",
      "text/plain": [
       "<Figure size 1000x800 with 2 Axes>"
      ]
     },
     "metadata": {},
     "output_type": "display_data"
    }
   ],
   "source": [
    "corr_matrix = df_events_correlation.corr()\n",
    "\n",
    "\n",
    "plt.figure(figsize=(10, 8))\n",
    "sns.heatmap(corr_matrix, annot=True, cmap=\"coolwarm\", fmt=\".2f\", linewidths=0.5)\n",
    "plt.title(\"Mapa de Correlação\")\n",
    "plt.show()"
   ]
  },
  {
   "cell_type": "code",
   "execution_count": null,
   "metadata": {},
   "outputs": [],
   "source": []
  },
  {
   "cell_type": "markdown",
   "metadata": {},
   "source": [
    "# Considerações Finais do Projeto\n",
    "\n",
    "Este projeto teve como objetivo explorar e analisar dados de eventos naturais, utilizando a API EONET da NASA para coletar informações detalhadas sobre eventos categorizados como incêndios florestais, vulcões, tempestades severas, entre outros. A partir da análise dos dados, foi possível entender melhor os padrões temporais e espaciais desses eventos, além de identificar correlações importantes entre diferentes variáveis.\n",
    "\n",
    "## Principais Conclusões\n",
    "\n",
    "1. **Distribuição dos Eventos**: A maioria dos eventos registrados são de incêndios florestais, indicando uma prevalência significativa desse tipo de evento nos dados. Em contraste, eventos de tempestades severas, vulcões e outros tipos de eventos naturais são menos frequentes, refletindo características específicas de cada fenômeno.\n",
    "\n",
    "2. **Correlação entre Variáveis**: A análise de correlação revelou que a duração dos eventos e as classes possuem uma correlação baixa/moderada, indicando que eventos de certas categorias podem ter uma duração distinta. Por outro lado, a média da magnitude dos eventos não apresentou correlação significativa com outras variáveis, sugerindo que a intensidade dos eventos é mais independente da sua classificação ou duração.\n",
    "\n",
    "\n",
    "## Principais Problemas\n",
    "\n",
    "- **Escopo dos Dados**: O projeto se limitou aos dados disponibilizados pela API EONET, que podem não cobrir todos os eventos naturais globalmente ou fornecer dados completos sobre cada tipo de evento. A falta de dados sobre os eventos existentes como localização (País), e a falta de dados sobre eventos de outras categorias, como seca, terremotos, inundações e neve prejudica uma analise mais robusta dos dados\n",
    "  \n",
    "- **Análise Temporal**: Uma análise mais detalhada dos padrões sazonais e temporais poderia ser realizada para entender a variação dos eventos ao longo dos anos e em diferentes estações do ano, especialmente para eventos relacionados a condições climáticas e sazonais, como incêndios e tempestades. Porém tambem foi notado uma falta de dados de outros anos, a maior parte se concentra em 2024.\n",
    "\n"
   ]
  }
 ],
 "metadata": {
  "kernelspec": {
   "display_name": "Python 3",
   "language": "python",
   "name": "python3"
  },
  "language_info": {
   "codemirror_mode": {
    "name": "ipython",
    "version": 3
   },
   "file_extension": ".py",
   "mimetype": "text/x-python",
   "name": "python",
   "nbconvert_exporter": "python",
   "pygments_lexer": "ipython3",
   "version": "3.12.1"
  }
 },
 "nbformat": 4,
 "nbformat_minor": 2
}
