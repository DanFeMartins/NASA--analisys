{
 "cells": [
  {
   "cell_type": "code",
   "execution_count": 1,
   "metadata": {},
   "outputs": [],
   "source": [
    "import requests\n",
    "import pandas as pd\n",
    "import matplotlib as plt\n"
   ]
  },
  {
   "cell_type": "code",
   "execution_count": 2,
   "metadata": {},
   "outputs": [],
   "source": [
    "url_events = \"https://eonet.gsfc.nasa.gov/api/v3/events\"\n",
    "url_categorias = \"https://eonet.gsfc.nasa.gov/api/v3/categories\"\n",
    "url_layers = \"https://eonet.gsfc.nasa.gov/api/v3/layers\"\n",
    "url_source = \"https://eonet.gsfc.nasa.gov/api/v3/sources\"\n"
   ]
  },
  {
   "cell_type": "code",
   "execution_count": 3,
   "metadata": {},
   "outputs": [],
   "source": [
    "response_events = requests.get(url_events)\n"
   ]
  },
  {
   "cell_type": "code",
   "execution_count": 4,
   "metadata": {},
   "outputs": [],
   "source": [
    "response_categorias = requests.get(url_categorias)"
   ]
  },
  {
   "cell_type": "code",
   "execution_count": 5,
   "metadata": {},
   "outputs": [],
   "source": [
    "response_layers = requests.get(url_layers)"
   ]
  },
  {
   "cell_type": "code",
   "execution_count": 6,
   "metadata": {},
   "outputs": [],
   "source": [
    "response_source = requests.get(url_source)\n"
   ]
  },
  {
   "cell_type": "code",
   "execution_count": 7,
   "metadata": {},
   "outputs": [],
   "source": [
    "#captura a informação dos json\n",
    "data_events = response_events.json()\n",
    "data_categorias = response_categorias.json()\n",
    "data_layers = response_layers.json()\n",
    "data_source = response_source.json()\n",
    "\n",
    "\n",
    "events = data_events['events']\n",
    "categorias = data_categorias['categories']\n",
    "layers = data_layers['categories']\n",
    "source = data_source['sources']\n",
    "\n",
    "\n",
    "\n",
    "df_events = pd.json_normalize(events)\n",
    "df_categorias = pd.json_normalize(categorias)\n",
    "df_layers = pd.json_normalize(data_layers['categories'], 'layers')\n",
    "df_source = pd.json_normalize(source)\n",
    "    \n",
    "    "
   ]
  },
  {
   "cell_type": "code",
   "execution_count": 38,
   "metadata": {},
   "outputs": [
    {
     "data": {
      "text/html": [
       "<div>\n",
       "<style scoped>\n",
       "    .dataframe tbody tr th:only-of-type {\n",
       "        vertical-align: middle;\n",
       "    }\n",
       "\n",
       "    .dataframe tbody tr th {\n",
       "        vertical-align: top;\n",
       "    }\n",
       "\n",
       "    .dataframe thead th {\n",
       "        text-align: right;\n",
       "    }\n",
       "</style>\n",
       "<table border=\"1\" class=\"dataframe\">\n",
       "  <thead>\n",
       "    <tr style=\"text-align: right;\">\n",
       "      <th></th>\n",
       "      <th>id</th>\n",
       "      <th>title</th>\n",
       "      <th>description</th>\n",
       "      <th>link</th>\n",
       "      <th>closed</th>\n",
       "      <th>categories</th>\n",
       "      <th>sources</th>\n",
       "      <th>geometry</th>\n",
       "    </tr>\n",
       "  </thead>\n",
       "  <tbody>\n",
       "    <tr>\n",
       "      <th>0</th>\n",
       "      <td>EONET_11744</td>\n",
       "      <td>Tropical Cyclone Dana</td>\n",
       "      <td>None</td>\n",
       "      <td>https://eonet.gsfc.nasa.gov/api/v3/events/EONE...</td>\n",
       "      <td>None</td>\n",
       "      <td>[{'id': 'severeStorms', 'title': 'Severe Storm...</td>\n",
       "      <td>[{'id': 'JTWC', 'url': 'https://www.metoc.navy...</td>\n",
       "      <td>[{'magnitudeValue': 35.0, 'magnitudeUnit': 'kt...</td>\n",
       "    </tr>\n",
       "    <tr>\n",
       "      <th>1</th>\n",
       "      <td>EONET_11729</td>\n",
       "      <td>Hurricane Kristy</td>\n",
       "      <td>None</td>\n",
       "      <td>https://eonet.gsfc.nasa.gov/api/v3/events/EONE...</td>\n",
       "      <td>None</td>\n",
       "      <td>[{'id': 'severeStorms', 'title': 'Severe Storm...</td>\n",
       "      <td>[{'id': 'JTWC', 'url': 'https://www.metoc.navy...</td>\n",
       "      <td>[{'magnitudeValue': 35.0, 'magnitudeUnit': 'kt...</td>\n",
       "    </tr>\n",
       "    <tr>\n",
       "      <th>2</th>\n",
       "      <td>EONET_11728</td>\n",
       "      <td>Tropical Storm Trami</td>\n",
       "      <td>None</td>\n",
       "      <td>https://eonet.gsfc.nasa.gov/api/v3/events/EONE...</td>\n",
       "      <td>None</td>\n",
       "      <td>[{'id': 'severeStorms', 'title': 'Severe Storm...</td>\n",
       "      <td>[{'id': 'JTWC', 'url': 'https://www.metoc.navy...</td>\n",
       "      <td>[{'magnitudeValue': 35.0, 'magnitudeUnit': 'kt...</td>\n",
       "    </tr>\n",
       "  </tbody>\n",
       "</table>\n",
       "</div>"
      ],
      "text/plain": [
       "            id                  title description  \\\n",
       "0  EONET_11744  Tropical Cyclone Dana        None   \n",
       "1  EONET_11729       Hurricane Kristy        None   \n",
       "2  EONET_11728   Tropical Storm Trami        None   \n",
       "\n",
       "                                                link closed  \\\n",
       "0  https://eonet.gsfc.nasa.gov/api/v3/events/EONE...   None   \n",
       "1  https://eonet.gsfc.nasa.gov/api/v3/events/EONE...   None   \n",
       "2  https://eonet.gsfc.nasa.gov/api/v3/events/EONE...   None   \n",
       "\n",
       "                                          categories  \\\n",
       "0  [{'id': 'severeStorms', 'title': 'Severe Storm...   \n",
       "1  [{'id': 'severeStorms', 'title': 'Severe Storm...   \n",
       "2  [{'id': 'severeStorms', 'title': 'Severe Storm...   \n",
       "\n",
       "                                             sources  \\\n",
       "0  [{'id': 'JTWC', 'url': 'https://www.metoc.navy...   \n",
       "1  [{'id': 'JTWC', 'url': 'https://www.metoc.navy...   \n",
       "2  [{'id': 'JTWC', 'url': 'https://www.metoc.navy...   \n",
       "\n",
       "                                            geometry  \n",
       "0  [{'magnitudeValue': 35.0, 'magnitudeUnit': 'kt...  \n",
       "1  [{'magnitudeValue': 35.0, 'magnitudeUnit': 'kt...  \n",
       "2  [{'magnitudeValue': 35.0, 'magnitudeUnit': 'kt...  "
      ]
     },
     "execution_count": 38,
     "metadata": {},
     "output_type": "execute_result"
    }
   ],
   "source": [
    "df_events.head(3)"
   ]
  },
  {
   "cell_type": "code",
   "execution_count": null,
   "metadata": {},
   "outputs": [],
   "source": []
  },
  {
   "cell_type": "code",
   "execution_count": 9,
   "metadata": {},
   "outputs": [
    {
     "data": {
      "text/plain": [
       "(3683,)"
      ]
     },
     "execution_count": 9,
     "metadata": {},
     "output_type": "execute_result"
    }
   ],
   "source": [
    "df_events.categories.shape"
   ]
  },
  {
   "cell_type": "code",
   "execution_count": 39,
   "metadata": {},
   "outputs": [],
   "source": [
    "titulos = df_events['categories'].apply(lambda x: [d['id'] for d in x])\n",
    "# titulos.head(50)\n"
   ]
  },
  {
   "cell_type": "code",
   "execution_count": 40,
   "metadata": {},
   "outputs": [
    {
     "name": "stdout",
     "output_type": "stream",
     "text": [
      "['severeStorms' 'wildfires' 'volcanoes' 'seaLakeIce']\n"
     ]
    }
   ],
   "source": [
    "df_exploded = titulos.explode('titulos')\n",
    "# df_exploded.head()\n",
    "titulos_unicos = df_exploded.unique()\n",
    "print(titulos_unicos)"
   ]
  },
  {
   "cell_type": "code",
   "execution_count": 41,
   "metadata": {},
   "outputs": [
    {
     "data": {
      "text/plain": [
       "0       [severeStorms]\n",
       "1       [severeStorms]\n",
       "2       [severeStorms]\n",
       "3          [wildfires]\n",
       "4          [wildfires]\n",
       "             ...      \n",
       "3678      [seaLakeIce]\n",
       "3679      [seaLakeIce]\n",
       "3680      [seaLakeIce]\n",
       "3681      [seaLakeIce]\n",
       "3682       [volcanoes]\n",
       "Name: categories, Length: 3683, dtype: object"
      ]
     },
     "execution_count": 41,
     "metadata": {},
     "output_type": "execute_result"
    }
   ],
   "source": [
    "titulos"
   ]
  },
  {
   "cell_type": "code",
   "execution_count": 42,
   "metadata": {},
   "outputs": [
    {
     "name": "stdout",
     "output_type": "stream",
     "text": [
      "categories\n",
      "[wildfires]       0.977464\n",
      "[seaLakeIce]      0.012218\n",
      "[volcanoes]       0.008960\n",
      "[severeStorms]    0.001358\n",
      "Name: proportion, dtype: float64\n"
     ]
    }
   ],
   "source": [
    "contagem = titulos.value_counts(normalize= True)\n",
    "print(contagem)"
   ]
  },
  {
   "cell_type": "code",
   "execution_count": 45,
   "metadata": {},
   "outputs": [
    {
     "data": {
      "text/plain": [
       "<Axes: xlabel='categories', ylabel='quantidade'>"
      ]
     },
     "execution_count": 45,
     "metadata": {},
     "output_type": "execute_result"
    },
    {
     "data": {
      "image/png": "[encoded data removed]",
      "text/plain": [
       "<Figure size 800x500 with 1 Axes>"
      ]
     },
     "metadata": {},
     "output_type": "display_data"
    }
   ],
   "source": [
    "contagem.plot(kind = 'bar', xlabel= 'categories', ylabel='quantidade',  figsize= (8,5))"
   ]
  },
  {
   "cell_type": "code",
   "execution_count": 51,
   "metadata": {},
   "outputs": [
    {
     "data": {
      "text/html": [
       "<div>\n",
       "<style scoped>\n",
       "    .dataframe tbody tr th:only-of-type {\n",
       "        vertical-align: middle;\n",
       "    }\n",
       "\n",
       "    .dataframe tbody tr th {\n",
       "        vertical-align: top;\n",
       "    }\n",
       "\n",
       "    .dataframe thead th {\n",
       "        text-align: right;\n",
       "    }\n",
       "</style>\n",
       "<table border=\"1\" class=\"dataframe\">\n",
       "  <thead>\n",
       "    <tr style=\"text-align: right;\">\n",
       "      <th></th>\n",
       "      <th>id</th>\n",
       "      <th>title</th>\n",
       "      <th>link</th>\n",
       "      <th>description</th>\n",
       "      <th>layers</th>\n",
       "    </tr>\n",
       "  </thead>\n",
       "  <tbody>\n",
       "    <tr>\n",
       "      <th>0</th>\n",
       "      <td>drought</td>\n",
       "      <td>Drought</td>\n",
       "      <td>https://eonet.gsfc.nasa.gov/api/v3/categories/...</td>\n",
       "      <td>Long lasting absence of precipitation affectin...</td>\n",
       "      <td>https://eonet.gsfc.nasa.gov/api/v3/layers/drought</td>\n",
       "    </tr>\n",
       "    <tr>\n",
       "      <th>1</th>\n",
       "      <td>dustHaze</td>\n",
       "      <td>Dust and Haze</td>\n",
       "      <td>https://eonet.gsfc.nasa.gov/api/v3/categories/...</td>\n",
       "      <td>Related to dust storms, air pollution and othe...</td>\n",
       "      <td>https://eonet.gsfc.nasa.gov/api/v3/layers/dust...</td>\n",
       "    </tr>\n",
       "    <tr>\n",
       "      <th>2</th>\n",
       "      <td>earthquakes</td>\n",
       "      <td>Earthquakes</td>\n",
       "      <td>https://eonet.gsfc.nasa.gov/api/v3/categories/...</td>\n",
       "      <td>Related to all manner of shaking and displacem...</td>\n",
       "      <td>https://eonet.gsfc.nasa.gov/api/v3/layers/eart...</td>\n",
       "    </tr>\n",
       "    <tr>\n",
       "      <th>3</th>\n",
       "      <td>floods</td>\n",
       "      <td>Floods</td>\n",
       "      <td>https://eonet.gsfc.nasa.gov/api/v3/categories/...</td>\n",
       "      <td>Related to aspects of actual flooding--e.g., i...</td>\n",
       "      <td>https://eonet.gsfc.nasa.gov/api/v3/layers/floods</td>\n",
       "    </tr>\n",
       "    <tr>\n",
       "      <th>4</th>\n",
       "      <td>landslides</td>\n",
       "      <td>Landslides</td>\n",
       "      <td>https://eonet.gsfc.nasa.gov/api/v3/categories/...</td>\n",
       "      <td>Related to landslides and variations thereof: ...</td>\n",
       "      <td>https://eonet.gsfc.nasa.gov/api/v3/layers/land...</td>\n",
       "    </tr>\n",
       "    <tr>\n",
       "      <th>5</th>\n",
       "      <td>manmade</td>\n",
       "      <td>Manmade</td>\n",
       "      <td>https://eonet.gsfc.nasa.gov/api/v3/categories/...</td>\n",
       "      <td>Events that have been human-induced and are ex...</td>\n",
       "      <td>https://eonet.gsfc.nasa.gov/api/v3/layers/manmade</td>\n",
       "    </tr>\n",
       "    <tr>\n",
       "      <th>6</th>\n",
       "      <td>seaLakeIce</td>\n",
       "      <td>Sea and Lake Ice</td>\n",
       "      <td>https://eonet.gsfc.nasa.gov/api/v3/categories/...</td>\n",
       "      <td>Related to all ice that resides on oceans and ...</td>\n",
       "      <td>https://eonet.gsfc.nasa.gov/api/v3/layers/seaL...</td>\n",
       "    </tr>\n",
       "    <tr>\n",
       "      <th>7</th>\n",
       "      <td>severeStorms</td>\n",
       "      <td>Severe Storms</td>\n",
       "      <td>https://eonet.gsfc.nasa.gov/api/v3/categories/...</td>\n",
       "      <td>Related to the atmospheric aspect of storms (h...</td>\n",
       "      <td>https://eonet.gsfc.nasa.gov/api/v3/layers/seve...</td>\n",
       "    </tr>\n",
       "    <tr>\n",
       "      <th>8</th>\n",
       "      <td>snow</td>\n",
       "      <td>Snow</td>\n",
       "      <td>https://eonet.gsfc.nasa.gov/api/v3/categories/...</td>\n",
       "      <td>Related to snow events, particularly extreme/a...</td>\n",
       "      <td>https://eonet.gsfc.nasa.gov/api/v3/layers/snow</td>\n",
       "    </tr>\n",
       "    <tr>\n",
       "      <th>9</th>\n",
       "      <td>tempExtremes</td>\n",
       "      <td>Temperature Extremes</td>\n",
       "      <td>https://eonet.gsfc.nasa.gov/api/v3/categories/...</td>\n",
       "      <td>Related to anomalous land temperatures, either...</td>\n",
       "      <td>https://eonet.gsfc.nasa.gov/api/v3/layers/temp...</td>\n",
       "    </tr>\n",
       "    <tr>\n",
       "      <th>10</th>\n",
       "      <td>volcanoes</td>\n",
       "      <td>Volcanoes</td>\n",
       "      <td>https://eonet.gsfc.nasa.gov/api/v3/categories/...</td>\n",
       "      <td>Related to both the physical effects of an eru...</td>\n",
       "      <td>https://eonet.gsfc.nasa.gov/api/v3/layers/volc...</td>\n",
       "    </tr>\n",
       "    <tr>\n",
       "      <th>11</th>\n",
       "      <td>waterColor</td>\n",
       "      <td>Water Color</td>\n",
       "      <td>https://eonet.gsfc.nasa.gov/api/v3/categories/...</td>\n",
       "      <td>Related to events that alter the appearance of...</td>\n",
       "      <td>https://eonet.gsfc.nasa.gov/api/v3/layers/wate...</td>\n",
       "    </tr>\n",
       "    <tr>\n",
       "      <th>12</th>\n",
       "      <td>wildfires</td>\n",
       "      <td>Wildfires</td>\n",
       "      <td>https://eonet.gsfc.nasa.gov/api/v3/categories/...</td>\n",
       "      <td>Wildfires includes all nature of fire, includi...</td>\n",
       "      <td>https://eonet.gsfc.nasa.gov/api/v3/layers/wild...</td>\n",
       "    </tr>\n",
       "  </tbody>\n",
       "</table>\n",
       "</div>"
      ],
      "text/plain": [
       "              id                 title  \\\n",
       "0        drought               Drought   \n",
       "1       dustHaze         Dust and Haze   \n",
       "2    earthquakes           Earthquakes   \n",
       "3         floods                Floods   \n",
       "4     landslides            Landslides   \n",
       "5        manmade               Manmade   \n",
       "6     seaLakeIce      Sea and Lake Ice   \n",
       "7   severeStorms         Severe Storms   \n",
       "8           snow                  Snow   \n",
       "9   tempExtremes  Temperature Extremes   \n",
       "10     volcanoes             Volcanoes   \n",
       "11    waterColor           Water Color   \n",
       "12     wildfires             Wildfires   \n",
       "\n",
       "                                                 link  \\\n",
       "0   https://eonet.gsfc.nasa.gov/api/v3/categories/...   \n",
       "1   https://eonet.gsfc.nasa.gov/api/v3/categories/...   \n",
       "2   https://eonet.gsfc.nasa.gov/api/v3/categories/...   \n",
       "3   https://eonet.gsfc.nasa.gov/api/v3/categories/...   \n",
       "4   https://eonet.gsfc.nasa.gov/api/v3/categories/...   \n",
       "5   https://eonet.gsfc.nasa.gov/api/v3/categories/...   \n",
       "6   https://eonet.gsfc.nasa.gov/api/v3/categories/...   \n",
       "7   https://eonet.gsfc.nasa.gov/api/v3/categories/...   \n",
       "8   https://eonet.gsfc.nasa.gov/api/v3/categories/...   \n",
       "9   https://eonet.gsfc.nasa.gov/api/v3/categories/...   \n",
       "10  https://eonet.gsfc.nasa.gov/api/v3/categories/...   \n",
       "11  https://eonet.gsfc.nasa.gov/api/v3/categories/...   \n",
       "12  https://eonet.gsfc.nasa.gov/api/v3/categories/...   \n",
       "\n",
       "                                          description  \\\n",
       "0   Long lasting absence of precipitation affectin...   \n",
       "1   Related to dust storms, air pollution and othe...   \n",
       "2   Related to all manner of shaking and displacem...   \n",
       "3   Related to aspects of actual flooding--e.g., i...   \n",
       "4   Related to landslides and variations thereof: ...   \n",
       "5   Events that have been human-induced and are ex...   \n",
       "6   Related to all ice that resides on oceans and ...   \n",
       "7   Related to the atmospheric aspect of storms (h...   \n",
       "8   Related to snow events, particularly extreme/a...   \n",
       "9   Related to anomalous land temperatures, either...   \n",
       "10  Related to both the physical effects of an eru...   \n",
       "11  Related to events that alter the appearance of...   \n",
       "12  Wildfires includes all nature of fire, includi...   \n",
       "\n",
       "                                               layers  \n",
       "0   https://eonet.gsfc.nasa.gov/api/v3/layers/drought  \n",
       "1   https://eonet.gsfc.nasa.gov/api/v3/layers/dust...  \n",
       "2   https://eonet.gsfc.nasa.gov/api/v3/layers/eart...  \n",
       "3    https://eonet.gsfc.nasa.gov/api/v3/layers/floods  \n",
       "4   https://eonet.gsfc.nasa.gov/api/v3/layers/land...  \n",
       "5   https://eonet.gsfc.nasa.gov/api/v3/layers/manmade  \n",
       "6   https://eonet.gsfc.nasa.gov/api/v3/layers/seaL...  \n",
       "7   https://eonet.gsfc.nasa.gov/api/v3/layers/seve...  \n",
       "8      https://eonet.gsfc.nasa.gov/api/v3/layers/snow  \n",
       "9   https://eonet.gsfc.nasa.gov/api/v3/layers/temp...  \n",
       "10  https://eonet.gsfc.nasa.gov/api/v3/layers/volc...  \n",
       "11  https://eonet.gsfc.nasa.gov/api/v3/layers/wate...  \n",
       "12  https://eonet.gsfc.nasa.gov/api/v3/layers/wild...  "
      ]
     },
     "execution_count": 51,
     "metadata": {},
     "output_type": "execute_result"
    }
   ],
   "source": [
    "df_categorias.head(13)"
   ]
  },
  {
   "cell_type": "code",
   "execution_count": 65,
   "metadata": {},
   "outputs": [
    {
     "name": "stdout",
     "output_type": "stream",
     "text": [
      "Sea and Lake Ice\n",
      "Related to all ice that resides on oceans and lakes, including sea and lake ice (permanent and seasonal) and icebergs.\n",
      "Severe Storms\n",
      "Related to the atmospheric aspect of storms (hurricanes, cyclones, tornadoes, etc.). Results of storms may be included under floods, landslides, etc.\n",
      "Volcanoes\n",
      "Related to both the physical effects of an eruption (rock, ash, lava) and the atmospheric (ash and gas plumes).\n",
      "Wildfires includes all nature of fire, including forest and plains fires, as well as urban and industrial fire events. Fires may be naturally caused or manmade.\n"
     ]
    }
   ],
   "source": [
    "selecao = df_categorias.query('title == \"Wildfires\" | title ==\"Volcanoes\" | title == \"Severe Storms\" | title == \"Sea and Lake Ice\"')\n",
    "for i in range(4):\n",
    "    print(selecao['title'].iloc[i])\n",
    "    print(selecao['description'].iloc[i])"
   ]
  },
  {
   "cell_type": "code",
   "execution_count": 13,
   "metadata": {},
   "outputs": [
    {
     "data": {
      "text/plain": [
       "(13, 5)"
      ]
     },
     "execution_count": 13,
     "metadata": {},
     "output_type": "execute_result"
    }
   ],
   "source": [
    "df_categorias.shape"
   ]
  },
  {
   "cell_type": "code",
   "execution_count": 14,
   "metadata": {},
   "outputs": [
    {
     "data": {
      "text/html": [
       "<div>\n",
       "<style scoped>\n",
       "    .dataframe tbody tr th:only-of-type {\n",
       "        vertical-align: middle;\n",
       "    }\n",
       "\n",
       "    .dataframe tbody tr th {\n",
       "        vertical-align: top;\n",
       "    }\n",
       "\n",
       "    .dataframe thead th {\n",
       "        text-align: right;\n",
       "    }\n",
       "</style>\n",
       "<table border=\"1\" class=\"dataframe\">\n",
       "  <thead>\n",
       "    <tr style=\"text-align: right;\">\n",
       "      <th></th>\n",
       "      <th>name</th>\n",
       "      <th>serviceUrl</th>\n",
       "      <th>serviceTypeId</th>\n",
       "      <th>parameters</th>\n",
       "    </tr>\n",
       "  </thead>\n",
       "  <tbody>\n",
       "    <tr>\n",
       "      <th>0</th>\n",
       "      <td>AIRS_CO_Total_Column_Day</td>\n",
       "      <td>https://gibs.earthdata.nasa.gov/wmts/epsg4326/...</td>\n",
       "      <td>WMTS_1_0_0</td>\n",
       "      <td>[{'TILEMATRIXSET': '2km', 'FORMAT': 'image/png'}]</td>\n",
       "    </tr>\n",
       "    <tr>\n",
       "      <th>1</th>\n",
       "      <td>AIRS_CO_Total_Column_Day</td>\n",
       "      <td>https://gibs.earthdata.nasa.gov/wmts/epsg4326/...</td>\n",
       "      <td>WMTS_1_0_0</td>\n",
       "      <td>[{'TILEMATRIXSET': '2km', 'FORMAT': 'image/png'}]</td>\n",
       "    </tr>\n",
       "    <tr>\n",
       "      <th>2</th>\n",
       "      <td>AIRS_CO_Total_Column_Day</td>\n",
       "      <td>https://gibs.earthdata.nasa.gov/wmts/epsg4326/...</td>\n",
       "      <td>WMTS_1_0_0</td>\n",
       "      <td>[{'TILEMATRIXSET': '2km', 'FORMAT': 'image/png'}]</td>\n",
       "    </tr>\n",
       "  </tbody>\n",
       "</table>\n",
       "</div>"
      ],
      "text/plain": [
       "                       name  \\\n",
       "0  AIRS_CO_Total_Column_Day   \n",
       "1  AIRS_CO_Total_Column_Day   \n",
       "2  AIRS_CO_Total_Column_Day   \n",
       "\n",
       "                                          serviceUrl serviceTypeId  \\\n",
       "0  https://gibs.earthdata.nasa.gov/wmts/epsg4326/...    WMTS_1_0_0   \n",
       "1  https://gibs.earthdata.nasa.gov/wmts/epsg4326/...    WMTS_1_0_0   \n",
       "2  https://gibs.earthdata.nasa.gov/wmts/epsg4326/...    WMTS_1_0_0   \n",
       "\n",
       "                                          parameters  \n",
       "0  [{'TILEMATRIXSET': '2km', 'FORMAT': 'image/png'}]  \n",
       "1  [{'TILEMATRIXSET': '2km', 'FORMAT': 'image/png'}]  \n",
       "2  [{'TILEMATRIXSET': '2km', 'FORMAT': 'image/png'}]  "
      ]
     },
     "execution_count": 14,
     "metadata": {},
     "output_type": "execute_result"
    }
   ],
   "source": [
    "df_layers.head(3)"
   ]
  },
  {
   "cell_type": "code",
   "execution_count": 15,
   "metadata": {},
   "outputs": [
    {
     "data": {
      "text/plain": [
       "(201, 4)"
      ]
     },
     "execution_count": 15,
     "metadata": {},
     "output_type": "execute_result"
    }
   ],
   "source": [
    "df_layers.shape"
   ]
  },
  {
   "cell_type": "code",
   "execution_count": 16,
   "metadata": {},
   "outputs": [
    {
     "data": {
      "text/html": [
       "<div>\n",
       "<style scoped>\n",
       "    .dataframe tbody tr th:only-of-type {\n",
       "        vertical-align: middle;\n",
       "    }\n",
       "\n",
       "    .dataframe tbody tr th {\n",
       "        vertical-align: top;\n",
       "    }\n",
       "\n",
       "    .dataframe thead th {\n",
       "        text-align: right;\n",
       "    }\n",
       "</style>\n",
       "<table border=\"1\" class=\"dataframe\">\n",
       "  <thead>\n",
       "    <tr style=\"text-align: right;\">\n",
       "      <th></th>\n",
       "      <th>id</th>\n",
       "      <th>title</th>\n",
       "      <th>source</th>\n",
       "      <th>link</th>\n",
       "    </tr>\n",
       "  </thead>\n",
       "  <tbody>\n",
       "    <tr>\n",
       "      <th>0</th>\n",
       "      <td>AVO</td>\n",
       "      <td>Alaska Volcano Observatory</td>\n",
       "      <td>https://www.avo.alaska.edu/</td>\n",
       "      <td>https://eonet.gsfc.nasa.gov/api/v3/events?sour...</td>\n",
       "    </tr>\n",
       "    <tr>\n",
       "      <th>1</th>\n",
       "      <td>ABFIRE</td>\n",
       "      <td>Alberta Wildfire</td>\n",
       "      <td>https://wildfire.alberta.ca/</td>\n",
       "      <td>https://eonet.gsfc.nasa.gov/api/v3/events?sour...</td>\n",
       "    </tr>\n",
       "    <tr>\n",
       "      <th>2</th>\n",
       "      <td>AU_BOM</td>\n",
       "      <td>Australia Bureau of Meteorology</td>\n",
       "      <td>http://www.bom.gov.au/</td>\n",
       "      <td>https://eonet.gsfc.nasa.gov/api/v3/events?sour...</td>\n",
       "    </tr>\n",
       "  </tbody>\n",
       "</table>\n",
       "</div>"
      ],
      "text/plain": [
       "       id                            title                        source  \\\n",
       "0     AVO       Alaska Volcano Observatory   https://www.avo.alaska.edu/   \n",
       "1  ABFIRE                 Alberta Wildfire  https://wildfire.alberta.ca/   \n",
       "2  AU_BOM  Australia Bureau of Meteorology        http://www.bom.gov.au/   \n",
       "\n",
       "                                                link  \n",
       "0  https://eonet.gsfc.nasa.gov/api/v3/events?sour...  \n",
       "1  https://eonet.gsfc.nasa.gov/api/v3/events?sour...  \n",
       "2  https://eonet.gsfc.nasa.gov/api/v3/events?sour...  "
      ]
     },
     "execution_count": 16,
     "metadata": {},
     "output_type": "execute_result"
    }
   ],
   "source": [
    "df_source.head(3)"
   ]
  },
  {
   "cell_type": "code",
   "execution_count": 17,
   "metadata": {},
   "outputs": [
    {
     "data": {
      "text/plain": [
       "(33, 4)"
      ]
     },
     "execution_count": 17,
     "metadata": {},
     "output_type": "execute_result"
    }
   ],
   "source": [
    "df_source.shape"
   ]
  },
  {
   "cell_type": "code",
   "execution_count": null,
   "metadata": {},
   "outputs": [],
   "source": []
  }
 ],
 "metadata": {
  "kernelspec": {
   "display_name": "Python 3",
   "language": "python",
   "name": "python3"
  },
  "language_info": {
   "codemirror_mode": {
    "name": "ipython",
    "version": 3
   },
   "file_extension": ".py",
   "mimetype": "text/x-python",
   "name": "python",
   "nbconvert_exporter": "python",
   "pygments_lexer": "ipython3",
   "version": "3.12.1"
  }
 },
 "nbformat": 4,
 "nbformat_minor": 2
}
